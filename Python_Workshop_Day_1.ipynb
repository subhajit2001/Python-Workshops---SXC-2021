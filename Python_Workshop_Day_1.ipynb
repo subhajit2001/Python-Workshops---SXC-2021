{
 "cells": [
  {
   "cell_type": "markdown",
   "metadata": {
    "id": "SwfMKlFIzv63"
   },
   "source": [
    "## Introduction to Python\n",
    "\n",
    "<p>Python is a general-purpose interpreted, interactive, <b>object-oriented</b>, and <b>high-level programming language</b>. It was created by Guido van Rossum during 1985- 1990.</p>\n",
    "\n",
    "Following are important characteristics of Python Programming −\n",
    "<ul>\n",
    "<li>It supports functional and structured programming methods as well as OOP.</li>\n",
    "\n",
    "<li>It can be used as a scripting language or can be compiled to byte-code for building large applications.</li>\n",
    "\n",
    "<li>It provides very high-level dynamic data types and supports dynamic type checking.</li>\n",
    "\n",
    "<li>It supports automatic garbage collection.</li>\n",
    "\n",
    "<li>It can be easily integrated with C, C++ and Java.</li>\n",
    "</ul>"
   ]
  },
  {
   "cell_type": "markdown",
   "metadata": {
    "id": "zv5K-0tcJFfF"
   },
   "source": [
    "![image.png](data:image/png;base64,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)"
   ]
  },
  {
   "cell_type": "code",
   "execution_count": 1,
   "metadata": {
    "colab": {
     "base_uri": "https://localhost:8080/"
    },
    "id": "TQrnQW3f1yfI",
    "outputId": "e918cfa9-61cf-4e75-9253-3017f627274d"
   },
   "outputs": [
    {
     "name": "stdout",
     "output_type": "stream",
     "text": [
      "The Zen of Python, by Tim Peters\n",
      "\n",
      "Beautiful is better than ugly.\n",
      "Explicit is better than implicit.\n",
      "Simple is better than complex.\n",
      "Complex is better than complicated.\n",
      "Flat is better than nested.\n",
      "Sparse is better than dense.\n",
      "Readability counts.\n",
      "Special cases aren't special enough to break the rules.\n",
      "Although practicality beats purity.\n",
      "Errors should never pass silently.\n",
      "Unless explicitly silenced.\n",
      "In the face of ambiguity, refuse the temptation to guess.\n",
      "There should be one-- and preferably only one --obvious way to do it.\n",
      "Although that way may not be obvious at first unless you're Dutch.\n",
      "Now is better than never.\n",
      "Although never is often better than *right* now.\n",
      "If the implementation is hard to explain, it's a bad idea.\n",
      "If the implementation is easy to explain, it may be a good idea.\n",
      "Namespaces are one honking great idea -- let's do more of those!\n"
     ]
    }
   ],
   "source": [
    "import this"
   ]
  },
  {
   "cell_type": "markdown",
   "metadata": {
    "id": "8-FzFfqAJykB"
   },
   "source": [
    "The Zen of Python is a collection of 19 \"guiding principles\" for writing computer programs that influence the design of the Python programming language. Software engineer Tim Peters wrote this set of principles and posted it on the Python mailing list in 1999."
   ]
  },
  {
   "cell_type": "markdown",
   "metadata": {
    "id": "sK3MCLHg2LaP"
   },
   "source": [
    "## Applications of Python\n",
    "\n",
    "<b>Python Applications</b>\n",
    "<ul>\n",
    "<li>Web Development</li>\n",
    "<li>Game Development</li>\n",
    "<li>Machine Learning and Artificial Intelligence</li>\n",
    "<li>Data Science and Data Visualization</li>\n",
    "<li>Desktop GUI</li>\n",
    "<li>Web Scraping Applications</li>\n",
    "<li>Business Applications</li>\n",
    "<li>Audio and Video Applications</li>\n",
    "<li>CAD Applications</li>\n",
    "<li>Embedded Applications</li>\n",
    "</ul>"
   ]
  },
  {
   "cell_type": "code",
   "execution_count": 2,
   "metadata": {
    "colab": {
     "base_uri": "https://localhost:8080/"
    },
    "id": "PDhqUXOI3OJ-",
    "outputId": "6b5bdb94-d34d-48fa-be07-a22c940cf756"
   },
   "outputs": [
    {
     "name": "stdout",
     "output_type": "stream",
     "text": [
      "Hello World!!!\n"
     ]
    }
   ],
   "source": [
    "## print hello world using python\n",
    "## Demonstration of print function\n",
    "print(\"Hello World!!!\")"
   ]
  },
  {
   "cell_type": "markdown",
   "metadata": {
    "id": "J4AI3iFJmmEW"
   },
   "source": [
    "##Python Basics (Data Types, Variables, Typecasting, Dynamic Typing)\n"
   ]
  },
  {
   "cell_type": "markdown",
   "metadata": {
    "id": "_xkwe_4yn4r5"
   },
   "source": [
    "Basic Data Types available in Python : (a) Numeric (b) Boolean (c) Sequence (d) Dictionary (e) Sets\n",
    "\n",
    "(a) Numeric : int $\\to$ integers , float $\\to$ floating point numbers , complex $\\to$ Complex numbers of the form $a+bj$ , $a,b$ $\\in \\mathbb{R}$"
   ]
  },
  {
   "cell_type": "code",
   "execution_count": 3,
   "metadata": {
    "colab": {
     "base_uri": "https://localhost:8080/"
    },
    "id": "kwPvXtxwoFqR",
    "outputId": "ec7a2eee-54d5-40a2-80be-0dabeb8e4a55"
   },
   "outputs": [
    {
     "name": "stdout",
     "output_type": "stream",
     "text": [
      "22 <class 'int'>\n",
      "22.22 <class 'float'>\n",
      "(3+4j) <class 'complex'>\n"
     ]
    }
   ],
   "source": [
    "#Some examples: Note that type() function is used to check/ verify the data type\n",
    "\n",
    "a = 22\n",
    "print(a , type(a))\n",
    "\n",
    "b = 22.22\n",
    "print(b , type(b))\n",
    "\n",
    "c = 3+4j\n",
    "print(c , type(c))"
   ]
  },
  {
   "cell_type": "markdown",
   "metadata": {
    "id": "Cx3zOluMoylv"
   },
   "source": [
    "Boolean Values are noting but TRUE/FALSE values. Anything of the type 0 or 1 , ON or OFF , EMPTY or NON-EMPTY, all correspond to Boolean Data Types. Boolean values fall under the Python Class <b> bool </b>."
   ]
  },
  {
   "cell_type": "code",
   "execution_count": 4,
   "metadata": {
    "colab": {
     "base_uri": "https://localhost:8080/"
    },
    "id": "KRb4qwtopJ7A",
    "outputId": "18038039-d827-4c08-b867-ee2d902d1be3"
   },
   "outputs": [
    {
     "name": "stdout",
     "output_type": "stream",
     "text": [
      "False\n",
      "True\n",
      "True\n",
      "\n",
      "\n",
      "False : This corresponds to an empty string\n",
      "True : This corresponds to a string with a space only.\n",
      "True : This corresponds to any string.\n",
      "\n",
      "\n"
     ]
    }
   ],
   "source": [
    "#Some Examples\n",
    "\n",
    "print(bool(0))\n",
    "print(bool(1))\n",
    "print(bool(2)) #Ask participants to determine the Value of bool(3)\n",
    "\n",
    "print('\\n')\n",
    "\n",
    "print(bool(''), ': This corresponds to an empty string') #Empty String\n",
    "print(bool(' '), ': This corresponds to a string with a space only.') #String with a space\n",
    "print(bool('AnyString'), ': This corresponds to any string.')\n",
    "\n",
    "print('\\n')\n",
    "\n"
   ]
  },
  {
   "cell_type": "code",
   "execution_count": 5,
   "metadata": {
    "colab": {
     "base_uri": "https://localhost:8080/"
    },
    "id": "rnfH70dfDm6C",
    "outputId": "631f83fe-90dd-4497-ad47-a131c555a417"
   },
   "outputs": [
    {
     "name": "stdout",
     "output_type": "stream",
     "text": [
      "22 11\n",
      "11 22\n"
     ]
    }
   ],
   "source": [
    "# Easy swapping of values\n",
    "a = 22\n",
    "b = 11\n",
    "\n",
    "print(a,b)\n",
    "\n",
    "#swap\n",
    "a,b = b,a\n",
    "\n",
    "print(a,b)"
   ]
  },
  {
   "cell_type": "markdown",
   "metadata": {
    "id": "bPBllNRFqgoD"
   },
   "source": [
    "Basic Sequences in Python are: <b>Lists, Strings, Tuples</b>"
   ]
  },
  {
   "cell_type": "markdown",
   "metadata": {
    "id": "zRH-h0JXWoj7"
   },
   "source": [
    "#Lists"
   ]
  },
  {
   "cell_type": "markdown",
   "metadata": {
    "id": "QNztRkE1rfYx"
   },
   "source": [
    "(1) Empty Lists are initialized using [] or list() <br>\n",
    "(2) The indexation in Lists start from 0 and the last element is of index n-1, where length of list is n.<br>\n",
    "(3) The len() function gives length of any sequence/iterable in python.<br>\n",
    "(4) The append method of the class list can be used to add elements to the list<br>\n",
    "(5) The extend methond extends a list by what is provided as an argument to the function<br>\n",
    "(6) The lists are mutable, which can be altered after creation.<br>\n",
    "(7) The lists also have negative indexation, where $-1$ corresponds to the last element, whereas $-n$ corresponds to the first element.\n",
    "\n"
   ]
  },
  {
   "cell_type": "code",
   "execution_count": 6,
   "metadata": {
    "colab": {
     "base_uri": "https://localhost:8080/"
    },
    "id": "NUz1LdFUsfTT",
    "outputId": "80b1a262-f1ed-47d0-cc8b-c327ff2f54a9"
   },
   "outputs": [
    {
     "name": "stdout",
     "output_type": "stream",
     "text": [
      "[]\n",
      "[1, 2, 3, 4]\n"
     ]
    }
   ],
   "source": [
    "l = [] #Empty List\n",
    "l1 = [1 , 2 , 3 , 4]\n",
    "\n",
    "print(l)\n",
    "print(l1)"
   ]
  },
  {
   "cell_type": "code",
   "execution_count": 7,
   "metadata": {
    "colab": {
     "base_uri": "https://localhost:8080/"
    },
    "id": "mO2gTb1_0s9L",
    "outputId": "01de4175-48e6-4581-e041-70a809347762"
   },
   "outputs": [
    {
     "name": "stdout",
     "output_type": "stream",
     "text": [
      "1\n"
     ]
    }
   ],
   "source": [
    "#index of a list\n",
    "l1 = [1,2,3,4]\n",
    "print(l1[0])"
   ]
  },
  {
   "cell_type": "code",
   "execution_count": 8,
   "metadata": {
    "colab": {
     "base_uri": "https://localhost:8080/"
    },
    "id": "iGbwGZ5oUKE4",
    "outputId": "e78e8b49-446b-40b1-c58c-e57e1e5000f7"
   },
   "outputs": [
    {
     "data": {
      "text/plain": [
       "8"
      ]
     },
     "execution_count": 8,
     "metadata": {},
     "output_type": "execute_result"
    }
   ],
   "source": [
    "l = [1,4,3,2,2,1,3,2] # A random List\n",
    "#Use of len() function\n",
    "\n",
    "len(l)"
   ]
  },
  {
   "cell_type": "code",
   "execution_count": 9,
   "metadata": {
    "colab": {
     "base_uri": "https://localhost:8080/"
    },
    "id": "a9dtPvxLvK49",
    "outputId": "ae5c4b62-f805-4020-eead-273b6c6bd2f8"
   },
   "outputs": [
    {
     "name": "stdout",
     "output_type": "stream",
     "text": [
      "2 ,which is the last element\n",
      "1 ,which is the first element\n"
     ]
    }
   ],
   "source": [
    "l = [1,4,3,2,2,1,3,2]\n",
    "#l = [-8,-7,-6,-5,-4,-3,-2,-1]\n",
    " # A random List\n",
    "#This List has 8 elements.#len - 1 - len\n",
    "print(l[-1] , ',which is the last element') #Use of negative indexation\n",
    "print(l[-8] , ',which is the first element')"
   ]
  },
  {
   "cell_type": "code",
   "execution_count": 10,
   "metadata": {
    "colab": {
     "base_uri": "https://localhost:8080/"
    },
    "id": "logeTb5BUZXi",
    "outputId": "59a748e6-2376-4154-8036-ebbd84305aae"
   },
   "outputs": [
    {
     "name": "stdout",
     "output_type": "stream",
     "text": [
      "[2, 4, 8, 4, 6]\n"
     ]
    }
   ],
   "source": [
    "## Appending to a list\n",
    "\n",
    "l = [2,4,8,4]\n",
    "l.append(6) #This inserts 6 at the last position.\n",
    "\n",
    "print(l)"
   ]
  },
  {
   "cell_type": "code",
   "execution_count": 11,
   "metadata": {
    "colab": {
     "base_uri": "https://localhost:8080/"
    },
    "id": "NfKjUqx3U7QX",
    "outputId": "be087fe9-80a8-407c-bcfe-4111402188ff"
   },
   "outputs": [
    {
     "name": "stdout",
     "output_type": "stream",
     "text": [
      "[2, 4, 7, 8, 4], where you can see that 7 has been inserted at index 2, or the third position.\n"
     ]
    }
   ],
   "source": [
    "## Inserting in a list an element at index i using the insert function\n",
    "l = [2,4,8,4]\n",
    "\n",
    "l.insert(2 , 7) # 2 is the argument referring to the index, whereas 7 is the element to be inserted. Don't Worry!! We will circle back to function, its parameters\n",
    "                # and arguments pretty soon.\n",
    "\n",
    "print(f'{l}, where you can see that 7 has been inserted at index 2, or the third position.')"
   ]
  },
  {
   "cell_type": "code",
   "execution_count": 12,
   "metadata": {
    "colab": {
     "base_uri": "https://localhost:8080/"
    },
    "id": "W206J341VUVX",
    "outputId": "bb81c283-68e5-4ef0-9aa2-dc3301cb2028"
   },
   "outputs": [
    {
     "name": "stdout",
     "output_type": "stream",
     "text": [
      "[2, 4, 8, 4, [7, 8]]\n",
      "[2, 4, 8, 4, 7, 8]\n",
      "When you given an argument inside the append method of the list class, it gets added to the list as is. However, extend method extends the list by adding the provided elements in the list. \n"
     ]
    }
   ],
   "source": [
    "## Extending a list and difference between extend and append.\n",
    "\n",
    "l = [2,4,8,4]\n",
    "l.append([7,8])\n",
    "print(l)\n",
    "\n",
    "l = [2,4,8,4]\n",
    "l.extend([7,8])\n",
    "print(l)\n",
    "\n",
    "print('When you given an argument inside the append method of the list class, it gets added to the list as is. However, extend method extends the list by adding the provided elements in the list. ')"
   ]
  },
  {
   "cell_type": "code",
   "execution_count": 13,
   "metadata": {
    "colab": {
     "base_uri": "https://localhost:8080/"
    },
    "id": "dzHypJI1XPzZ",
    "outputId": "4e44cd96-6a2d-4acd-fa28-30d98156845a"
   },
   "outputs": [
    {
     "name": "stdout",
     "output_type": "stream",
     "text": [
      "[2, 5, 8, 4], where element at index 1, i.e. 4, is replaced by 5.\n"
     ]
    }
   ],
   "source": [
    "# Lists can be changed after creation.\n",
    "\n",
    "l = [2,4,8,4]\n",
    "# Say you want to change the element at index 1 to 5. All you have to do is\n",
    "l[1] = 5\n",
    "\n",
    "print(f'{l}, where element at index 1, i.e. 4, is replaced by 5.')"
   ]
  },
  {
   "cell_type": "code",
   "execution_count": 14,
   "metadata": {
    "colab": {
     "base_uri": "https://localhost:8080/"
    },
    "id": "6kbgcXaSaJkY",
    "outputId": "f4e6a90b-fd94-4e99-e7dc-f10e15909aa7"
   },
   "outputs": [
    {
     "name": "stdout",
     "output_type": "stream",
     "text": [
      "[1, 3, 2, 4, 5, 1, 2]\n",
      "[3, 2, 4, 5, 1, 2]\n"
     ]
    }
   ],
   "source": [
    "# Elements of a list can be removed using the remove method. The remove method removes the first occurence of an element. It raises an error if element is not present\n",
    "l = [1,2,3,2,4,5,1,2]\n",
    "\n",
    "l.remove(2)\n",
    "print(l)\n",
    "\n",
    "l.remove(1)\n",
    "print(l)"
   ]
  },
  {
   "cell_type": "markdown",
   "metadata": {
    "id": "URVTdI2ny-yU"
   },
   "source": [
    "# List Slicing"
   ]
  },
  {
   "cell_type": "markdown",
   "metadata": {
    "id": "h5hmFEnVzRtj"
   },
   "source": [
    "In Python lists can be sliced according to need to solve problems efficiently.\n",
    "It is achieved using the slicing operator(:)\n",
    "\n",
    "**Syntax:**  List[ Initial : End : Index jump ]"
   ]
  },
  {
   "cell_type": "code",
   "execution_count": 15,
   "metadata": {
    "colab": {
     "base_uri": "https://localhost:8080/"
    },
    "id": "-iuj5kVh0fN-",
    "outputId": "d508cd81-bd91-4670-918f-0707df080820"
   },
   "outputs": [
    {
     "name": "stdout",
     "output_type": "stream",
     "text": [
      "[5, 6, 3, 1]\n",
      "[6, 3, 1, 7]\n",
      "[2, 5, 6, 3, 1, 7, 9]\n"
     ]
    }
   ],
   "source": [
    "# Displaying data between two indexes\n",
    "l = [2,5,6,3,1,7,9]\n",
    "#ne = [-7,-6,-5,-4,-3,-2,-1,0]\n",
    "print(l[1:5]) # Displays all the values between l[1](included) and l[5](excluded)\n",
    "print(l[-5:-1]) # Using -ve indexes\n",
    "print(l[:]) # Displays whole list"
   ]
  },
  {
   "cell_type": "code",
   "execution_count": 16,
   "metadata": {
    "colab": {
     "base_uri": "https://localhost:8080/"
    },
    "id": "Mq-hNyrV32gW",
    "outputId": "93e67636-3ab3-4c34-d5dc-22400f263812"
   },
   "outputs": [
    {
     "name": "stdout",
     "output_type": "stream",
     "text": [
      "[14, 5, 11, 8, 12, 6, 7]\n",
      "[5, 2, 12, 4]\n"
     ]
    }
   ],
   "source": [
    "# Displaying values at a fixed interval\n",
    "l = [14,3,5,9,11,2,8,1,12,15,6,4,7]\n",
    "\n",
    "print(l[::2]) # Displays all values at an interval of 2\n",
    "print(l[2:-1:3]) # Displays all values at an interval of 3 between l[2](included) and l[-1](excluded)"
   ]
  },
  {
   "cell_type": "code",
   "execution_count": 17,
   "metadata": {
    "colab": {
     "base_uri": "https://localhost:8080/"
    },
    "id": "gRhQZCTaFuS-",
    "outputId": "a11e41c6-81fd-4671-98a4-c5cf78c9ad5c"
   },
   "outputs": [
    {
     "name": "stdout",
     "output_type": "stream",
     "text": [
      "[7, 4, 6, 15, 12, 1, 8, 2, 11, 9, 5, 3, 14]\n",
      "[]\n",
      "[4, 12, 2, 5]\n"
     ]
    }
   ],
   "source": [
    "# Reverse a list using -ve Index jump\n",
    "print(l[::-1])\n",
    "\n",
    "# With -ve Index jump, indexes in reverse order should be used\n",
    "print(l[2:-1:-3])  # Empty list as indexes are in wrong order with -ve Index jump\n",
    "print(l[-2:1:-3])"
   ]
  },
  {
   "cell_type": "markdown",
   "metadata": {
    "id": "HtP8i3MAWvkr"
   },
   "source": [
    "#Strings\n",
    "Some features of Strings in Python are:<br>\n",
    "(1) Strings are immutable sequences in Python, i.e. they cannot be modified once they are created. By modification, I mean that like lists, elements cannot be changed in between like lists.<br>\n",
    "(2) Strings are indexable in Python and follows same indexation rule as lists.<br>\n",
    "(3) The length of a string can be determined using the len() function.<br>\n",
    "(4) The String Class of Python has many inbuilt functions, which will be demonstrated below.<br>\n",
    "(5) Empty string can be initialised using '' or \"\" (quotes with nothing in between them)"
   ]
  },
  {
   "cell_type": "code",
   "execution_count": 18,
   "metadata": {
    "colab": {
     "base_uri": "https://localhost:8080/"
    },
    "id": "g4ErmTCgWIZY",
    "outputId": "fc91f2cb-65a9-4763-a77a-76f2c40ad7f6"
   },
   "outputs": [
    {
     "name": "stdout",
     "output_type": "stream",
     "text": [
      "Python is FUN\n"
     ]
    }
   ],
   "source": [
    "string1 = 'Python is FUN'\n",
    "\n",
    "print(string1)"
   ]
  },
  {
   "cell_type": "code",
   "execution_count": 19,
   "metadata": {
    "colab": {
     "base_uri": "https://localhost:8080/"
    },
    "id": "XAxoIH96fm0o",
    "outputId": "e347d58d-fba3-4dd8-8575-81653bf4ceee"
   },
   "outputs": [
    {
     "data": {
      "text/plain": [
       "13"
      ]
     },
     "execution_count": 19,
     "metadata": {},
     "output_type": "execute_result"
    }
   ],
   "source": [
    "## The len() function gives the length of the string\n",
    "\n",
    "len(string1)"
   ]
  },
  {
   "cell_type": "code",
   "execution_count": 20,
   "metadata": {
    "colab": {
     "base_uri": "https://localhost:8080/"
    },
    "id": "o-bpXRzyZzQI",
    "outputId": "cc9c2e6e-9f2d-43ba-9424-a1d4d75d9c55"
   },
   "outputs": [
    {
     "data": {
      "text/plain": [
       "True"
      ]
     },
     "execution_count": 20,
     "metadata": {},
     "output_type": "execute_result"
    }
   ],
   "source": [
    "# The isupper() method returns True if all characters are uppercase, False otherwise\n",
    "\n",
    "string2 = 'PYTHON IS FUN'\n",
    "string2.isupper()"
   ]
  },
  {
   "cell_type": "code",
   "execution_count": 21,
   "metadata": {
    "colab": {
     "base_uri": "https://localhost:8080/"
    },
    "id": "qL--H-yfcEYx",
    "outputId": "b58ea52d-0017-4f25-d363-4fee29a96520"
   },
   "outputs": [
    {
     "data": {
      "text/plain": [
       "True"
      ]
     },
     "execution_count": 21,
     "metadata": {},
     "output_type": "execute_result"
    }
   ],
   "source": [
    "# The islower() method returns True if all characters are lowercase, False otherwise\n",
    "\n",
    "string3 = 'python is fun'\n",
    "string3.islower()"
   ]
  },
  {
   "cell_type": "code",
   "execution_count": 22,
   "metadata": {
    "colab": {
     "base_uri": "https://localhost:8080/"
    },
    "id": "yUFvYNBucS8p",
    "outputId": "b7502cba-4c44-4ca5-ca3f-c1f31a65cc4a"
   },
   "outputs": [
    {
     "name": "stdout",
     "output_type": "stream",
     "text": [
      "False\n",
      "False\n"
     ]
    }
   ],
   "source": [
    "print(string1.isupper())\n",
    "print(string1.islower())\n",
    "## Note that in either case, it's printed False"
   ]
  },
  {
   "cell_type": "code",
   "execution_count": 23,
   "metadata": {
    "colab": {
     "base_uri": "https://localhost:8080/"
    },
    "id": "KaT7nStWcnyM",
    "outputId": "d325dbff-760d-402c-f6e9-0eec61e75b9e"
   },
   "outputs": [
    {
     "name": "stdout",
     "output_type": "stream",
     "text": [
      "string4 = This is a Python3 Tutorial\n",
      "string4.isalpha() returns False\n",
      "string4.isalnum() returns False\n"
     ]
    }
   ],
   "source": [
    "## The isalpha() method returns True if all characters are alphabetical, i.e. A-Za-z\n",
    "## The isalnum() method returns True if all characters are alphanumeric, i.e. A-Za-z1-9\n",
    "\n",
    "string4 = 'This is a Python3 Tutorial'\n",
    "string5 = 'This is a Python3 Tutorial.'\n",
    "\n",
    "print(f'string4 = {string4}')\n",
    "print('string4.isalpha() returns', string4.isalpha())\n",
    "print('string4.isalnum() returns', string4.isalnum())"
   ]
  },
  {
   "cell_type": "markdown",
   "metadata": {
    "id": "EAW-NXEidwLT"
   },
   "source": [
    "This happens because there is space character between the words. Let's see what happens if we remove them."
   ]
  },
  {
   "cell_type": "code",
   "execution_count": 24,
   "metadata": {
    "colab": {
     "base_uri": "https://localhost:8080/"
    },
    "id": "e97eKwFxdbV0",
    "outputId": "efe965a5-a2fc-446d-f7d2-d78c00dc6fb4"
   },
   "outputs": [
    {
     "name": "stdout",
     "output_type": "stream",
     "text": [
      "string4 = ThisisaPython3Tutorial\n",
      "string4.isalpha() returns False\n",
      "string4.isalnum() returns True\n"
     ]
    }
   ],
   "source": [
    "string4 = 'ThisisaPython3Tutorial'\n",
    "print(f'string4 = {string4}')\n",
    "print('string4.isalpha() returns', string4.isalpha())\n",
    "print('string4.isalnum() returns', string4.isalnum())\n",
    "## .,#@*&^%''\"\" etc. all are considered to be neither in alphabetical nor in alphanumerical set of characters."
   ]
  },
  {
   "cell_type": "code",
   "execution_count": 25,
   "metadata": {
    "colab": {
     "base_uri": "https://localhost:8080/"
    },
    "id": "sNUfL6jdeOyp",
    "outputId": "94915c0c-55bd-4e83-e361-2e08786b902f"
   },
   "outputs": [
    {
     "name": "stdout",
     "output_type": "stream",
     "text": [
      "True\n",
      "False\n"
     ]
    }
   ],
   "source": [
    "## isnumeric() method returns True if all characters of a string are numeric, False otherwise.\n",
    "\n",
    "string5 = '123456'\n",
    "string6 = 'a1b2c3'\n",
    "\n",
    "print(string5.isnumeric())\n",
    "print(string6.isnumeric())"
   ]
  },
  {
   "cell_type": "code",
   "execution_count": 26,
   "metadata": {
    "colab": {
     "base_uri": "https://localhost:8080/"
    },
    "id": "vHwXCcq4e8Jh",
    "outputId": "15d9e2b2-6451-4549-89e3-29e0b5c2d629"
   },
   "outputs": [
    {
     "name": "stdout",
     "output_type": "stream",
     "text": [
      "PYTHON IS FUN\n",
      "python is fun\n",
      "Python is fun\n"
     ]
    }
   ],
   "source": [
    "## upper() method converts all characters to uppercase\n",
    "## lower() method converts all characters to lowercase\n",
    "## capitalize method converts first character to uppercase and all the rest are converted to lowercase\n",
    "\n",
    "string7 = 'Python is FUN'\n",
    "\n",
    "print(string7.upper())\n",
    "print(string7.lower())\n",
    "print(string7.capitalize())"
   ]
  },
  {
   "cell_type": "code",
   "execution_count": 27,
   "metadata": {
    "colab": {
     "base_uri": "https://localhost:8080/"
    },
    "id": "etkBr3c3faDp",
    "outputId": "8b4def9e-f786-4905-f6cc-21a34a3d13ac"
   },
   "outputs": [
    {
     "name": "stdout",
     "output_type": "stream",
     "text": [
      "Y\n",
      "N\n"
     ]
    }
   ],
   "source": [
    "## Strings are indexable\n",
    "\n",
    "string8 = 'PYTHON'\n",
    "\n",
    "print(string8[1])\n",
    "print(string8[-1])"
   ]
  },
  {
   "cell_type": "code",
   "execution_count": 28,
   "metadata": {
    "colab": {
     "base_uri": "https://localhost:8080/"
    },
    "id": "_ZFmzSlk8uLT",
    "outputId": "4aca8d7a-7a35-4289-ef57-a208fbc54fec"
   },
   "outputs": [
    {
     "name": "stdout",
     "output_type": "stream",
     "text": [
      "Python i\n",
      "nuf si nohtyP\n"
     ]
    }
   ],
   "source": [
    "## List slicing on Strings\n",
    "\n",
    "string9 = 'Python is fun'\n",
    "\n",
    "# Substring\n",
    "print(string9[:8]) \n",
    "\n",
    "# Reverse\n",
    "print(string9[::-1])"
   ]
  },
  {
   "cell_type": "markdown",
   "metadata": {
    "id": "xvIL13s2gEsE"
   },
   "source": [
    "#Tuples\n",
    "(1) Tuples are also immutable sequences in Python. They cannot be modified after creation.<br>\n",
    "(2) An empty tuple can be initialised using () (round parentheses) <br>\n",
    "(3) The len() function gives the length of the Tuple.<br>\n",
    "(4) Tuples are also indexable and elements can be accessed using square brackets."
   ]
  },
  {
   "cell_type": "code",
   "execution_count": 29,
   "metadata": {
    "colab": {
     "base_uri": "https://localhost:8080/"
    },
    "id": "8AW8Vu2XfxrC",
    "outputId": "9daa2cb4-d392-4e7e-b7ae-e0ade8604f11"
   },
   "outputs": [
    {
     "name": "stdout",
     "output_type": "stream",
     "text": [
      "(1, 2, 3, 4) <class 'tuple'>\n"
     ]
    }
   ],
   "source": [
    "t1 = (1,2,3,4)\n",
    "\n",
    "print(t1, type(t1))"
   ]
  },
  {
   "cell_type": "code",
   "execution_count": 30,
   "metadata": {
    "colab": {
     "base_uri": "https://localhost:8080/"
    },
    "id": "8VpVKC1VgpYR",
    "outputId": "72d7c488-d87a-40fd-de1d-753ea97dad1d"
   },
   "outputs": [
    {
     "data": {
      "text/plain": [
       "3"
      ]
     },
     "execution_count": 30,
     "metadata": {},
     "output_type": "execute_result"
    }
   ],
   "source": [
    "t1[2]"
   ]
  },
  {
   "cell_type": "markdown",
   "metadata": {
    "id": "pMB8pxgzoLge"
   },
   "source": [
    "#Sets\n",
    "The Set Data Structure is very similar to what you study in maths. Every element appears only once in a set. <br>\n",
    "(1) Empty set can be created using set() <br>\n",
    "(2) A set can contain any number and type of elements, but it cannot have any mutable elements as its member. <br>\n",
    "(3) Sets are not indexable in Python. <br>\n",
    "(4) The set class have various methods such as add(), discard(), union(), intersection(), issubset(), issuperset(), isdisjoint(), remove(), symmetric_difference()<br>\n",
    "(5) Sets can also be created using {}, but during such an initialisation, there must be elements inside it."
   ]
  },
  {
   "cell_type": "code",
   "execution_count": 31,
   "metadata": {
    "id": "fvTWwFJOoEbf"
   },
   "outputs": [],
   "source": [
    "s1 = {1,3,2,4,5,6,8,10,'a'}"
   ]
  },
  {
   "cell_type": "code",
   "execution_count": 32,
   "metadata": {
    "colab": {
     "base_uri": "https://localhost:8080/"
    },
    "id": "4VddFkMYptVK",
    "outputId": "864d2c14-bf54-48b0-c652-64eebb518098"
   },
   "outputs": [
    {
     "name": "stdout",
     "output_type": "stream",
     "text": [
      "{1, 2, 3, 4, 5, 6, 8, 10, 'a'}\n"
     ]
    }
   ],
   "source": [
    "print(s1)"
   ]
  },
  {
   "cell_type": "code",
   "execution_count": 33,
   "metadata": {
    "id": "oG0UvY6zpufH"
   },
   "outputs": [],
   "source": [
    "s1.discard(3)"
   ]
  },
  {
   "cell_type": "code",
   "execution_count": 34,
   "metadata": {
    "colab": {
     "base_uri": "https://localhost:8080/"
    },
    "id": "AJe-BF0WpyRp",
    "outputId": "58c694cb-ce9b-4c2f-f331-d7c97b451070"
   },
   "outputs": [
    {
     "name": "stdout",
     "output_type": "stream",
     "text": [
      "{1, 2, 4, 5, 6, 8, 10, 'a'}\n"
     ]
    }
   ],
   "source": [
    "print(s1)"
   ]
  },
  {
   "cell_type": "markdown",
   "metadata": {
    "id": "F5hhEiRIp08b"
   },
   "source": [
    "For any two sets $A$ and $B$, <br>\n",
    "$A \\cup B$ can be obtained by A.union(B) or A|B <br>\n",
    "$A \\cap B$ can be obtained by A.intersection(B) or A&B <br>\n",
    "$A \\Delta B = (A-B) \\cup (B-A)$ can be obtained by A.symmetric_difference(B) or (A-B)|(B-A) <br>\n",
    "Whether $A \\subseteq B$ can be checked using A.issubset(B) <br>\n",
    "Whether $A \\supseteq B$ can be checked using A.issuperset(B) <br>\n",
    "Whether $A \\cap B = \\phi$ can be checked using A.isdisjoint(B)"
   ]
  },
  {
   "cell_type": "code",
   "execution_count": 35,
   "metadata": {
    "id": "gXaz5a6UpzN0"
   },
   "outputs": [],
   "source": [
    "A = {1,3,5,7}\n",
    "B = {2,4,6,8}"
   ]
  },
  {
   "cell_type": "code",
   "execution_count": 36,
   "metadata": {
    "colab": {
     "base_uri": "https://localhost:8080/"
    },
    "id": "8ZK6Wa-jrKvL",
    "outputId": "a035115e-2d97-45c8-ccdb-88a1eca5694a"
   },
   "outputs": [
    {
     "data": {
      "text/plain": [
       "set()"
      ]
     },
     "execution_count": 36,
     "metadata": {},
     "output_type": "execute_result"
    }
   ],
   "source": [
    "A&B"
   ]
  },
  {
   "cell_type": "code",
   "execution_count": 37,
   "metadata": {
    "colab": {
     "base_uri": "https://localhost:8080/"
    },
    "id": "QpirDojirL0F",
    "outputId": "92b5449d-0035-409c-ee3d-f0ebbe20bda4"
   },
   "outputs": [
    {
     "data": {
      "text/plain": [
       "{1, 2, 3, 4, 5, 6, 7, 8}"
      ]
     },
     "execution_count": 37,
     "metadata": {},
     "output_type": "execute_result"
    }
   ],
   "source": [
    "A|B"
   ]
  },
  {
   "cell_type": "code",
   "execution_count": 38,
   "metadata": {
    "id": "6BWS11uIrNSR"
   },
   "outputs": [],
   "source": [
    "A = {1,2,3,5,6}\n",
    "B = {1,3,2,4,6,8,5}"
   ]
  },
  {
   "cell_type": "code",
   "execution_count": 39,
   "metadata": {
    "colab": {
     "base_uri": "https://localhost:8080/"
    },
    "id": "CEy0_-F2uFM7",
    "outputId": "bdda1655-c2d5-49a5-9652-68b7577fbc8a"
   },
   "outputs": [
    {
     "data": {
      "text/plain": [
       "{1, 2, 3, 4, 5, 6, 8}"
      ]
     },
     "execution_count": 39,
     "metadata": {},
     "output_type": "execute_result"
    }
   ],
   "source": [
    "A|B"
   ]
  },
  {
   "cell_type": "code",
   "execution_count": 40,
   "metadata": {
    "colab": {
     "base_uri": "https://localhost:8080/"
    },
    "id": "epSXXFlauGQc",
    "outputId": "a7e262fe-382d-4a35-b73f-6bcddf6530fa"
   },
   "outputs": [
    {
     "data": {
      "text/plain": [
       "{1, 2, 3, 5, 6}"
      ]
     },
     "execution_count": 40,
     "metadata": {},
     "output_type": "execute_result"
    }
   ],
   "source": [
    "A&B"
   ]
  },
  {
   "cell_type": "code",
   "execution_count": 41,
   "metadata": {
    "colab": {
     "base_uri": "https://localhost:8080/"
    },
    "id": "ayotgveUuHq8",
    "outputId": "a39b8e31-c5e4-4f30-f764-b669d002f654"
   },
   "outputs": [
    {
     "data": {
      "text/plain": [
       "True"
      ]
     },
     "execution_count": 41,
     "metadata": {},
     "output_type": "execute_result"
    }
   ],
   "source": [
    "A.issubset(B)"
   ]
  },
  {
   "cell_type": "code",
   "execution_count": 42,
   "metadata": {
    "colab": {
     "base_uri": "https://localhost:8080/"
    },
    "id": "OYRCp8XbuP0g",
    "outputId": "62929eca-e129-4f5f-b715-2140ee062819"
   },
   "outputs": [
    {
     "data": {
      "text/plain": [
       "True"
      ]
     },
     "execution_count": 42,
     "metadata": {},
     "output_type": "execute_result"
    }
   ],
   "source": [
    "B.issuperset(A)"
   ]
  },
  {
   "cell_type": "code",
   "execution_count": 43,
   "metadata": {
    "colab": {
     "base_uri": "https://localhost:8080/"
    },
    "id": "BeSeBAozuSPM",
    "outputId": "a0239f85-5002-433f-fd48-5459d4a4f7a0"
   },
   "outputs": [
    {
     "data": {
      "text/plain": [
       "{4, 8}"
      ]
     },
     "execution_count": 43,
     "metadata": {},
     "output_type": "execute_result"
    }
   ],
   "source": [
    "(A-B)|(B-A)"
   ]
  },
  {
   "cell_type": "code",
   "execution_count": 44,
   "metadata": {
    "id": "wkvlhFWtuVaY"
   },
   "outputs": [],
   "source": [
    "A = {1,3,5,7}\n",
    "B = {2,4,6,8}"
   ]
  },
  {
   "cell_type": "code",
   "execution_count": 45,
   "metadata": {
    "colab": {
     "base_uri": "https://localhost:8080/"
    },
    "id": "0m8fT8FJuZ4Q",
    "outputId": "aaff70e5-c649-4553-d56a-8f77103666a4"
   },
   "outputs": [
    {
     "data": {
      "text/plain": [
       "True"
      ]
     },
     "execution_count": 45,
     "metadata": {},
     "output_type": "execute_result"
    }
   ],
   "source": [
    "A.isdisjoint(B)"
   ]
  },
  {
   "cell_type": "code",
   "execution_count": 46,
   "metadata": {
    "id": "D2EjaEi-ubVs"
   },
   "outputs": [],
   "source": [
    "A = {1,2,3,5,6}\n",
    "B = {1,3,2,4,6,8,5}"
   ]
  },
  {
   "cell_type": "code",
   "execution_count": 47,
   "metadata": {
    "colab": {
     "base_uri": "https://localhost:8080/"
    },
    "id": "_HRASAb1ueA-",
    "outputId": "602287ee-8b75-4234-8417-8f846bedb2d6"
   },
   "outputs": [
    {
     "data": {
      "text/plain": [
       "False"
      ]
     },
     "execution_count": 47,
     "metadata": {},
     "output_type": "execute_result"
    }
   ],
   "source": [
    "A.isdisjoint(B)"
   ]
  },
  {
   "cell_type": "markdown",
   "metadata": {
    "id": "M0MMjhfPvLEA"
   },
   "source": [
    "#Dictionary\n",
    "(1) Dictionaries are mutable data structures in Python.<br>\n",
    "(2) The elements of a dictionary are <b>key:value</b> pairs.<br>\n",
    "(3) The values corresponding to a particular key can be accessed using the key.<br>\n",
    "(4) There can be multiple values which are same, but the keys of a dictionary have to be unique.<br>\n",
    "(5) Some methods of the dictionary class are get(), keys(), values(), items(), update(), "
   ]
  },
  {
   "cell_type": "code",
   "execution_count": 48,
   "metadata": {
    "id": "iT4I43BlufX5"
   },
   "outputs": [],
   "source": [
    "d = {'banana':6 , 'mango':5 , 'apple':5}"
   ]
  },
  {
   "cell_type": "code",
   "execution_count": 49,
   "metadata": {
    "colab": {
     "base_uri": "https://localhost:8080/"
    },
    "id": "2EUZkNTtwb2l",
    "outputId": "dc0d88e2-c186-4696-eb44-d2fc573780ab"
   },
   "outputs": [
    {
     "data": {
      "text/plain": [
       "6"
      ]
     },
     "execution_count": 49,
     "metadata": {},
     "output_type": "execute_result"
    }
   ],
   "source": [
    "d['banana']"
   ]
  },
  {
   "cell_type": "code",
   "execution_count": 50,
   "metadata": {
    "colab": {
     "base_uri": "https://localhost:8080/"
    },
    "id": "mUtj7AoMwsMl",
    "outputId": "25bbf99b-3107-4bc6-ac6e-7a8fe49a9d4b"
   },
   "outputs": [
    {
     "data": {
      "text/plain": [
       "0"
      ]
     },
     "execution_count": 50,
     "metadata": {},
     "output_type": "execute_result"
    }
   ],
   "source": [
    "d.get('guava',0) #The first argument is the key you want to retrieve, the second one is the value to be returned if the key is not found.\n",
    "                  #If key is found, it returns the corresponding value. "
   ]
  },
  {
   "cell_type": "code",
   "execution_count": 51,
   "metadata": {
    "colab": {
     "base_uri": "https://localhost:8080/"
    },
    "id": "68lSCviEp3gB",
    "outputId": "a3ae93e1-6ae3-4937-9a96-572022751ff4"
   },
   "outputs": [
    {
     "data": {
      "text/plain": [
       "6"
      ]
     },
     "execution_count": 51,
     "metadata": {},
     "output_type": "execute_result"
    }
   ],
   "source": [
    "d.get('banana',0)"
   ]
  },
  {
   "cell_type": "code",
   "execution_count": 52,
   "metadata": {
    "colab": {
     "base_uri": "https://localhost:8080/"
    },
    "id": "rXaryUVWwxBr",
    "outputId": "28505c6b-d1fb-45f1-a219-901921461e2a"
   },
   "outputs": [
    {
     "data": {
      "text/plain": [
       "dict_keys(['banana', 'mango', 'apple'])"
      ]
     },
     "execution_count": 52,
     "metadata": {},
     "output_type": "execute_result"
    }
   ],
   "source": [
    "d.keys()"
   ]
  },
  {
   "cell_type": "code",
   "execution_count": 53,
   "metadata": {
    "colab": {
     "base_uri": "https://localhost:8080/"
    },
    "id": "ky9O-RDJxMBR",
    "outputId": "0a1bfce6-c4a0-40c4-ad67-fae5a162911c"
   },
   "outputs": [
    {
     "data": {
      "text/plain": [
       "['banana', 'mango', 'apple']"
      ]
     },
     "execution_count": 53,
     "metadata": {},
     "output_type": "execute_result"
    }
   ],
   "source": [
    "list(d.keys())"
   ]
  },
  {
   "cell_type": "code",
   "execution_count": 54,
   "metadata": {
    "colab": {
     "base_uri": "https://localhost:8080/"
    },
    "id": "XB_I4zIlxNnD",
    "outputId": "37556e8d-b325-414f-c7cd-34bdb68a3ec8"
   },
   "outputs": [
    {
     "data": {
      "text/plain": [
       "[6, 5, 5]"
      ]
     },
     "execution_count": 54,
     "metadata": {},
     "output_type": "execute_result"
    }
   ],
   "source": [
    "list(d.values())"
   ]
  },
  {
   "cell_type": "code",
   "execution_count": 55,
   "metadata": {
    "colab": {
     "base_uri": "https://localhost:8080/"
    },
    "id": "SkCkIPerxQJ0",
    "outputId": "326414ae-ed3c-4b3c-925c-7d5aed2bbf7d"
   },
   "outputs": [
    {
     "data": {
      "text/plain": [
       "[('banana', 6), ('mango', 5), ('apple', 5)]"
      ]
     },
     "execution_count": 55,
     "metadata": {},
     "output_type": "execute_result"
    }
   ],
   "source": [
    "list(d.items())"
   ]
  },
  {
   "cell_type": "code",
   "execution_count": 56,
   "metadata": {
    "id": "FqoAPncpxSdX"
   },
   "outputs": [],
   "source": [
    "d.update({'jackfruit':9})"
   ]
  },
  {
   "cell_type": "code",
   "execution_count": 57,
   "metadata": {
    "colab": {
     "base_uri": "https://localhost:8080/"
    },
    "id": "jMZ-33evxZlI",
    "outputId": "b5d06bb3-1cb7-42c4-b66d-cbf3008e7c93"
   },
   "outputs": [
    {
     "name": "stdout",
     "output_type": "stream",
     "text": [
      "{'banana': 6, 'mango': 5, 'apple': 5, 'jackfruit': 9}\n"
     ]
    }
   ],
   "source": [
    "print(d)"
   ]
  },
  {
   "cell_type": "code",
   "execution_count": 58,
   "metadata": {
    "id": "SPNdHuCNxacN"
   },
   "outputs": [],
   "source": [
    "#To delete a key, do the following:\n",
    "\n",
    "del d['apple']"
   ]
  },
  {
   "cell_type": "code",
   "execution_count": 59,
   "metadata": {
    "colab": {
     "base_uri": "https://localhost:8080/"
    },
    "id": "S_pdkD6VxiTt",
    "outputId": "56cd199f-fce6-43f7-ab2f-1fa51f34940f"
   },
   "outputs": [
    {
     "name": "stdout",
     "output_type": "stream",
     "text": [
      "{'banana': 6, 'mango': 5, 'jackfruit': 9}\n"
     ]
    }
   ],
   "source": [
    "print(d)"
   ]
  },
  {
   "cell_type": "code",
   "execution_count": 60,
   "metadata": {
    "colab": {
     "base_uri": "https://localhost:8080/"
    },
    "id": "tCBT6UW6WzsE",
    "outputId": "c8079dfc-ba8e-4f0d-f945-2b4ea8db6a27"
   },
   "outputs": [
    {
     "name": "stdout",
     "output_type": "stream",
     "text": [
      "apples 6\n",
      "guava 5\n",
      "orange 5\n",
      "cherry 6\n",
      "mango 5\n",
      "strawberry 10\n",
      "watermelon 10\n"
     ]
    }
   ],
   "source": [
    "# Iterating over dictionary Keys:\n",
    "\n",
    "d = {'apples':6 , 'guava':5 , 'orange':5, 'cherry':6, 'mango':5, 'strawberry':10, 'watermelon':10}\n",
    "\n",
    "for i in d:\n",
    "  print(i , d[i])"
   ]
  },
  {
   "cell_type": "markdown",
   "metadata": {
    "id": "N13uV8wo6yGF"
   },
   "source": [
    "##Lists - Advanced"
   ]
  },
  {
   "cell_type": "code",
   "execution_count": 61,
   "metadata": {
    "id": "KtxVGT6r1_nE"
   },
   "outputs": [
    {
     "name": "stdout",
     "output_type": "stream",
     "text": [
      "My first bicycle was a Trek.\n"
     ]
    }
   ],
   "source": [
    "#Using individual values from a list and composing an f-string\n",
    "bicycles = ['trek','cannondale','redline','specialized']\n",
    "message = f\"My first bicycle was a {bicycles[0].title()}.\"\n",
    "\n",
    "print(message)"
   ]
  },
  {
   "cell_type": "code",
   "execution_count": 62,
   "metadata": {
    "id": "iAFJkA2x9UDV"
   },
   "outputs": [
    {
     "name": "stdout",
     "output_type": "stream",
     "text": [
      "['honda', 'yamaha', 'suzuki']\n",
      "['honda', 'suzuki']\n",
      "['honda']\n",
      "suzuki\n",
      "[]\n",
      "honda\n"
     ]
    }
   ],
   "source": [
    "#del statement works with index\n",
    "motorcycles = ['honda','yamaha','suzuki']\n",
    "print(motorcycles)\n",
    "\n",
    "del motorcycles[1]\n",
    "print(motorcycles)\n",
    "\n",
    "#pop function in lists - use the item as you remove it\n",
    "popped_motorcycle = motorcycles.pop()\n",
    "print(motorcycles)\n",
    "print(popped_motorcycle)\n",
    "\n",
    "#pop from any index\n",
    "first = motorcycles.pop(0)\n",
    "print(motorcycles)\n",
    "print(first)"
   ]
  },
  {
   "cell_type": "code",
   "execution_count": 63,
   "metadata": {
    "id": "Ma15mf2xARlg"
   },
   "outputs": [
    {
     "name": "stdout",
     "output_type": "stream",
     "text": [
      "['audi', 'bmw', 'subaru', 'toyota']\n",
      "\n",
      "\n",
      "['toyota', 'subaru', 'bmw', 'audi']\n",
      "\n",
      "\n",
      "['toyota', 'subaru', 'bmw', 'audi']\n",
      "['audi', 'bmw', 'subaru', 'toyota']\n",
      "['toyota', 'subaru', 'bmw', 'audi']\n"
     ]
    }
   ],
   "source": [
    "#sort method\n",
    "cars = ['bmw','audi','toyota','subaru']\n",
    "cars.sort()#sorting alphabetically\n",
    "print(cars)\n",
    "print('\\n')\n",
    "\n",
    "cars.sort(reverse=True)\n",
    "print(cars)\n",
    "print('\\n')\n",
    "\n",
    "#sorted method - preserves the original order in the list\n",
    "print(cars)\n",
    "print(sorted(cars))\n",
    "print(cars)"
   ]
  },
  {
   "cell_type": "code",
   "execution_count": 64,
   "metadata": {
    "id": "1L79DofCESkK"
   },
   "outputs": [
    {
     "name": "stdout",
     "output_type": "stream",
     "text": [
      "['bmw', 'audi', 'toyota', 'subaru']\n",
      "['subaru', 'toyota', 'audi', 'bmw']\n"
     ]
    }
   ],
   "source": [
    "#reverse method\n",
    "cars = ['bmw','audi','toyota','subaru']\n",
    "print(cars)\n",
    "cars.reverse()\n",
    "print(cars)"
   ]
  },
  {
   "cell_type": "code",
   "execution_count": 65,
   "metadata": {
    "id": "Viwj7ZET7AUx"
   },
   "outputs": [
    {
     "name": "stdout",
     "output_type": "stream",
     "text": [
      "[0, 1, 2, 3, 4, 5, 6, 7, 8, 9]\n",
      "[[0, 1], [1, 2], [2, 3], [3, 4], [4, 5], [5, 6], [6, 7], [7, 8], [8, 9], [9, 10]]\n",
      "[0, 1, 2, 3, 4, 5, 6, 7, 8, 9]\n",
      "[0, 1, 2, 3, 4, 5, 6, 7, 8, 9]\n"
     ]
    }
   ],
   "source": [
    "#appending lists dynamically\n",
    "numbers = []#declaring an empty list\n",
    "numbers1 = []\n",
    "numbers2 = []\n",
    "numbers3 = []\n",
    "\n",
    "for i in range(0,10,1):\n",
    "  numbers.append(i)\n",
    "  numbers1.append([i,i+1])\n",
    "  numbers2.extend([i])\n",
    "  numbers3.insert(i,i)\n",
    "\n",
    "print(numbers)\n",
    "print(numbers1)\n",
    "print(numbers2)\n",
    "print(numbers3)"
   ]
  },
  {
   "cell_type": "markdown",
   "metadata": {
    "id": "U5Be26HXI_P3"
   },
   "source": [
    "##Loop structures in Python\n",
    "###For loop\n",
    "The for loop is a finite loop. It is mostly used when the number of iterations required are known beforehand."
   ]
  },
  {
   "cell_type": "code",
   "execution_count": 66,
   "metadata": {
    "colab": {
     "base_uri": "https://localhost:8080/"
    },
    "id": "o_9aDDkRS-xF",
    "outputId": "827ee8b7-7cd9-44dd-d864-a8d0d409d9e9"
   },
   "outputs": [
    {
     "name": "stdout",
     "output_type": "stream",
     "text": [
      "\n"
     ]
    }
   ],
   "source": [
    "### Body of a for loop\n",
    "''' for i in iterable:\n",
    "      --do something--'''\n",
    "print('')"
   ]
  },
  {
   "cell_type": "code",
   "execution_count": 67,
   "metadata": {
    "colab": {
     "base_uri": "https://localhost:8080/"
    },
    "id": "KexzHmYXH9XE",
    "outputId": "17a9004f-61a7-4369-d58a-ec2b0773ae7c"
   },
   "outputs": [
    {
     "name": "stdout",
     "output_type": "stream",
     "text": [
      "apple\n",
      "banana\n",
      "cherry\n"
     ]
    }
   ],
   "source": [
    "#looping through lists\n",
    "fruits = [\"apple\", \"banana\", \"cherry\"]\n",
    "for x in fruits:\n",
    "  print(x)"
   ]
  },
  {
   "cell_type": "code",
   "execution_count": 68,
   "metadata": {
    "colab": {
     "base_uri": "https://localhost:8080/"
    },
    "id": "4CqtKhdkJN30",
    "outputId": "629e6b03-959f-476f-86ae-7577e40610b0"
   },
   "outputs": [
    {
     "name": "stdout",
     "output_type": "stream",
     "text": [
      "b\n",
      "a\n",
      "n\n",
      "a\n",
      "n\n",
      "a\n"
     ]
    }
   ],
   "source": [
    "#looping through strings\n",
    "for x in \"banana\":\n",
    "  print(x)"
   ]
  },
  {
   "cell_type": "code",
   "execution_count": 69,
   "metadata": {
    "colab": {
     "base_uri": "https://localhost:8080/"
    },
    "id": "Ikp8Ev9oJYRy",
    "outputId": "03654cf4-f8b8-4134-f4c8-d770d2951a2a"
   },
   "outputs": [
    {
     "name": "stdout",
     "output_type": "stream",
     "text": [
      "apple\n",
      "banana\n",
      "\n",
      "\n",
      "apple\n"
     ]
    }
   ],
   "source": [
    "#using the break statement\n",
    "fruits = [\"apple\", \"banana\", \"cherry\"]\n",
    "for x in fruits:\n",
    "  print(x)#print statement earlier\n",
    "  if x == \"banana\":\n",
    "    break\n",
    "\n",
    "print(\"\\n\")\n",
    "\n",
    "fruits = [\"apple\", \"banana\", \"cherry\"]\n",
    "for x in fruits:\n",
    "  if x == \"banana\":\n",
    "    break\n",
    "  print(x)#print statement kept later"
   ]
  },
  {
   "cell_type": "code",
   "execution_count": 70,
   "metadata": {
    "colab": {
     "base_uri": "https://localhost:8080/"
    },
    "id": "5I9YTtvxJ3bk",
    "outputId": "ca972a9e-4bff-4b24-dd45-a3df72df5061"
   },
   "outputs": [
    {
     "name": "stdout",
     "output_type": "stream",
     "text": [
      "apple\n",
      "cherry\n"
     ]
    }
   ],
   "source": [
    "#using the continue statement\n",
    "fruits = [\"apple\", \"banana\", \"cherry\"]\n",
    "for x in fruits:\n",
    "  if x == \"banana\":\n",
    "    continue    #do not print banana\n",
    "  print(x)"
   ]
  },
  {
   "cell_type": "markdown",
   "metadata": {
    "id": "iG4I2oH8J9Wd"
   },
   "source": [
    "The range(start=0, stop, step = 1) function, by default starts a sequence from $0$ and returns a sequence upto $n-1$, with a default spacing of $1$. "
   ]
  },
  {
   "cell_type": "code",
   "execution_count": 71,
   "metadata": {
    "colab": {
     "base_uri": "https://localhost:8080/"
    },
    "id": "3QM0Ds4iKKmL",
    "outputId": "8d7f7f39-e40f-4212-ae7d-62ff195e30c2"
   },
   "outputs": [
    {
     "name": "stdout",
     "output_type": "stream",
     "text": [
      "0 1 2 3 4 5 6 7 8 9 "
     ]
    }
   ],
   "source": [
    "#range function\n",
    "for i in range(10):\n",
    "  print(i, end=' ')"
   ]
  },
  {
   "cell_type": "code",
   "execution_count": 72,
   "metadata": {
    "colab": {
     "base_uri": "https://localhost:8080/"
    },
    "id": "S_wMGhZCKa7E",
    "outputId": "52557b50-b2df-47d2-d183-de7c8cc1409d"
   },
   "outputs": [
    {
     "name": "stdout",
     "output_type": "stream",
     "text": [
      "0 2 4 6 8 10 12 14 16 18 20 "
     ]
    }
   ],
   "source": [
    "#printing even numbers from 0 to 20\n",
    "\n",
    "for i in range(0 , 21 , 2):        ## Here, I used 21 as the stop point is never included in the sequence returned by the range function. \n",
    "  print(i, end=' ')"
   ]
  },
  {
   "cell_type": "code",
   "execution_count": 73,
   "metadata": {
    "colab": {
     "base_uri": "https://localhost:8080/"
    },
    "id": "I8kiaEAbdKiX",
    "outputId": "51385f6b-765a-40dc-8fb7-250a7ad949d4"
   },
   "outputs": [
    {
     "name": "stdout",
     "output_type": "stream",
     "text": [
      "0\n",
      "1\n",
      "2\n",
      "3\n",
      "4\n",
      "5\n",
      "Finally finished!\n"
     ]
    }
   ],
   "source": [
    "#else in for loop\n",
    "for x in range(6):\n",
    "  print(x)\n",
    "else:\n",
    "  print(\"Finally finished!\")"
   ]
  },
  {
   "cell_type": "code",
   "execution_count": 74,
   "metadata": {
    "colab": {
     "base_uri": "https://localhost:8080/"
    },
    "id": "tpFkXX5Tdg7l",
    "outputId": "794c3991-1f13-453d-d6d7-05a19be9e096"
   },
   "outputs": [
    {
     "name": "stdout",
     "output_type": "stream",
     "text": [
      "0\n",
      "1\n",
      "2\n"
     ]
    }
   ],
   "source": [
    "#The else block will NOT be executed if the loop is stopped by a break statement.\n",
    "for x in range(6):\n",
    "  if x == 3: break\n",
    "  print(x)\n",
    "else:\n",
    "  print(\"Finally finished!\")"
   ]
  },
  {
   "cell_type": "code",
   "execution_count": 75,
   "metadata": {
    "colab": {
     "base_uri": "https://localhost:8080/"
    },
    "id": "vRKSJvSmdtIa",
    "outputId": "e9f947b3-32c9-4f04-9eaa-265daeebf378"
   },
   "outputs": [
    {
     "name": "stdout",
     "output_type": "stream",
     "text": [
      "red apple\n",
      "red banana\n",
      "red cherry\n",
      "big apple\n",
      "big banana\n",
      "big cherry\n",
      "tasty apple\n",
      "tasty banana\n",
      "tasty cherry\n"
     ]
    }
   ],
   "source": [
    "#nested loop structure\n",
    "adj = [\"red\", \"big\", \"tasty\"]\n",
    "fruits = [\"apple\", \"banana\", \"cherry\"]\n",
    "\n",
    "for x in adj:\n",
    "  for y in fruits:\n",
    "    print(x, y)"
   ]
  },
  {
   "cell_type": "code",
   "execution_count": 76,
   "metadata": {
    "colab": {
     "base_uri": "https://localhost:8080/"
    },
    "id": "F1HQ1sQQKqhp",
    "outputId": "c0d66d4a-5dc1-4340-e753-07f967fcf7cf"
   },
   "outputs": [
    {
     "data": {
      "text/plain": [
       "[0, 1, 2, 3, 4, 5, 6, 7, 8, 9]"
      ]
     },
     "execution_count": 76,
     "metadata": {},
     "output_type": "execute_result"
    }
   ],
   "source": [
    "# Range is looking a little abstract, isn't it ? Here's something to make it a bit more real.\n",
    "\n",
    "list(range(10))"
   ]
  },
  {
   "cell_type": "code",
   "execution_count": 77,
   "metadata": {
    "colab": {
     "base_uri": "https://localhost:8080/"
    },
    "id": "XtxrZFQULCZq",
    "outputId": "370e7c9b-4644-4fe4-b468-a10a6c2723dc"
   },
   "outputs": [
    {
     "data": {
      "text/plain": [
       "(0, 1, 2, 3, 4, 5, 6, 7, 8, 9)"
      ]
     },
     "execution_count": 77,
     "metadata": {},
     "output_type": "execute_result"
    }
   ],
   "source": [
    "tuple(range(10))"
   ]
  },
  {
   "cell_type": "code",
   "execution_count": 78,
   "metadata": {
    "colab": {
     "base_uri": "https://localhost:8080/"
    },
    "id": "E46hNZxuLFoh",
    "outputId": "839aefef-ef06-4f7a-c8eb-5bf250dd5849"
   },
   "outputs": [
    {
     "data": {
      "text/plain": [
       "{0, 1, 2, 3, 4, 5, 6, 7, 8, 9}"
      ]
     },
     "execution_count": 78,
     "metadata": {},
     "output_type": "execute_result"
    }
   ],
   "source": [
    "set(range(10))"
   ]
  },
  {
   "cell_type": "code",
   "execution_count": 79,
   "metadata": {
    "id": "FyfRX4God9or"
   },
   "outputs": [],
   "source": [
    "#for loop with no content and intent\n",
    "for x in [0, 1, 2]:\n",
    "  pass"
   ]
  },
  {
   "cell_type": "code",
   "execution_count": 80,
   "metadata": {
    "colab": {
     "base_uri": "https://localhost:8080/"
    },
    "id": "1DcX68TAERDm",
    "outputId": "3224e2b2-bc6c-4129-e802-6ec9624bb91f"
   },
   "outputs": [
    {
     "name": "stdout",
     "output_type": "stream",
     "text": [
      "1,0\n",
      "3,2\n",
      "5,4\n",
      "7,6\n",
      "9,8\n"
     ]
    }
   ],
   "source": [
    "# Iterate through lists simultaneously using zip function\n",
    "odd = list(range(1,10,2)) # First 5 odd nos.\n",
    "even = list(range(0,10,2)) # First 5 even nos.\n",
    "\n",
    "for i,j in zip(odd,even):\n",
    "  print(i,j, sep=',')   # sep adds a seperator between values printed"
   ]
  },
  {
   "cell_type": "code",
   "execution_count": 81,
   "metadata": {
    "colab": {
     "base_uri": "https://localhost:8080/"
    },
    "id": "clVkdyrCtyWF",
    "outputId": "bd57998b-a5f7-44ea-d9f1-c395323d6cfa"
   },
   "outputs": [
    {
     "data": {
      "text/plain": [
       "[(1, 0), (3, 2), (5, 4), (7, 6), (9, 8)]"
      ]
     },
     "execution_count": 81,
     "metadata": {},
     "output_type": "execute_result"
    }
   ],
   "source": [
    "list(zip(odd, even))"
   ]
  },
  {
   "cell_type": "code",
   "execution_count": 82,
   "metadata": {
    "colab": {
     "base_uri": "https://localhost:8080/"
    },
    "id": "8c0q-8ggFcLv",
    "outputId": "bdac739c-e567-43e8-d0de-8a738c4fec11"
   },
   "outputs": [
    {
     "name": "stdout",
     "output_type": "stream",
     "text": [
      "a 1 P\n",
      "b 2 Y\n",
      "c 3 T\n"
     ]
    }
   ],
   "source": [
    "# The loop runs till the length of the shortest list\n",
    "l1 = ['a','b','c','d']\n",
    "l2 = [1,2,3]\n",
    "l3 = list('PYTHON')\n",
    "\n",
    "for i,j,k in zip(l1,l2,l3):\n",
    "  print(i,j,k)"
   ]
  },
  {
   "cell_type": "markdown",
   "metadata": {
    "id": "Dz_RQGx-Sol4"
   },
   "source": [
    "###While loop\n",
    "The while loop is an indefinite loop. It is preferred over for loop when the number of iterations required is not known beforehand.We work with the while loop by testing a condition and repeat the loop body until the condition is false."
   ]
  },
  {
   "cell_type": "code",
   "execution_count": 83,
   "metadata": {
    "id": "iYFvxeuMR9Kn"
   },
   "outputs": [
    {
     "name": "stdout",
     "output_type": "stream",
     "text": [
      "\n"
     ]
    }
   ],
   "source": [
    "## Body of a while loop\n",
    "\n",
    "'''while condition==True:\n",
    "    --do something--'''\n",
    "print('')"
   ]
  },
  {
   "cell_type": "code",
   "execution_count": 84,
   "metadata": {
    "colab": {
     "base_uri": "https://localhost:8080/"
    },
    "id": "Jq4Uu_d8efsR",
    "outputId": "9dfb93f7-53b0-49ac-9fe0-0b41d827c70f"
   },
   "outputs": [
    {
     "name": "stdout",
     "output_type": "stream",
     "text": [
      "1\n",
      "2\n",
      "3\n",
      "4\n",
      "5\n"
     ]
    }
   ],
   "source": [
    "i = 1\n",
    "while i < 6:\n",
    "  print(i)\n",
    "  i = i + 1"
   ]
  },
  {
   "cell_type": "code",
   "execution_count": 85,
   "metadata": {
    "colab": {
     "base_uri": "https://localhost:8080/"
    },
    "id": "oR6BViwbfROP",
    "outputId": "2a977186-6e93-4ab9-fbde-06ff05f2d15f"
   },
   "outputs": [
    {
     "name": "stdout",
     "output_type": "stream",
     "text": [
      "1\n",
      "2\n",
      "3\n"
     ]
    }
   ],
   "source": [
    "#break in while\n",
    "i = 1\n",
    "while i < 6:\n",
    "  print(i)\n",
    "  if i == 3:\n",
    "    break\n",
    "  i += 1"
   ]
  },
  {
   "cell_type": "code",
   "execution_count": 86,
   "metadata": {
    "colab": {
     "base_uri": "https://localhost:8080/"
    },
    "id": "9CVPa1PqfWIo",
    "outputId": "e60482d6-76ed-4a30-9c71-4c88edfb14ea"
   },
   "outputs": [
    {
     "name": "stdout",
     "output_type": "stream",
     "text": [
      "1\n",
      "2\n",
      "4\n",
      "5\n",
      "6\n"
     ]
    }
   ],
   "source": [
    "#continue in while\n",
    "i = 0\n",
    "while i < 6:\n",
    "  i += 1\n",
    "  if i == 3:\n",
    "    continue\n",
    "  print(i)"
   ]
  },
  {
   "cell_type": "code",
   "execution_count": 87,
   "metadata": {
    "colab": {
     "base_uri": "https://localhost:8080/"
    },
    "id": "9nIzQZKLfabR",
    "outputId": "9934c2f7-a850-453f-b03e-9eaf7cea2d52"
   },
   "outputs": [
    {
     "name": "stdout",
     "output_type": "stream",
     "text": [
      "1\n",
      "2\n",
      "3\n",
      "4\n",
      "5\n",
      "i is no longer less than 6\n"
     ]
    }
   ],
   "source": [
    "#else in while - it informs after the loop is fully implemented\n",
    "i = 1\n",
    "while i < 6:\n",
    "  print(i)\n",
    "  i += 1\n",
    "else:\n",
    "  print(\"i is no longer less than 6\")"
   ]
  },
  {
   "cell_type": "markdown",
   "metadata": {
    "id": "tZPkSvZEbKWr"
   },
   "source": [
    "##Input in Python"
   ]
  },
  {
   "cell_type": "markdown",
   "metadata": {
    "id": "vqbC2yO5ODlw"
   },
   "source": [
    "The input() statement: <br>\n",
    "(1) The input() statement is used to read information(input) from the user. <br>\n",
    "(2) Anything provided through the input statement will be read as a string. Further manipulations require the input to be converted to a suitable data type.<br>\n",
    "(3) The prompt of an input statement can be supplied while using the input statement."
   ]
  },
  {
   "cell_type": "code",
   "execution_count": 88,
   "metadata": {
    "colab": {
     "base_uri": "https://localhost:8080/"
    },
    "id": "LGXm14VNL2ye",
    "outputId": "861b10ae-0156-4377-e3f1-068663e7940a"
   },
   "outputs": [
    {
     "name": "stdout",
     "output_type": "stream",
     "text": [
      "Enter your Name: Subhajit Saha\n",
      "The name entered is Subhajit Saha\n"
     ]
    }
   ],
   "source": [
    "s = input('Enter your Name: ')\n",
    "print(f'The name entered is {s}')"
   ]
  },
  {
   "cell_type": "code",
   "execution_count": 89,
   "metadata": {
    "colab": {
     "base_uri": "https://localhost:8080/"
    },
    "id": "ZAT_B5crO-HL",
    "outputId": "6e77029c-e195-471f-fd34-1d123ec371ff"
   },
   "outputs": [
    {
     "name": "stdout",
     "output_type": "stream",
     "text": [
      "Enter the radius of a circle: 5\n",
      "The radius of the circle is 5.0 and its area is 78.57142857142857 sq. units\n"
     ]
    }
   ],
   "source": [
    "#Suppose you want to read an int/float value from the user. \n",
    "r = float(input('Enter the radius of a circle: '))\n",
    "print(f'The radius of the circle is {r} and its area is {(22/7)*(r**2)} sq. units')\n",
    "#Similar procedure can be followed for float/bool etc."
   ]
  },
  {
   "cell_type": "markdown",
   "metadata": {
    "id": "hqvWe2b3k3ws"
   },
   "source": [
    "#Functions in Python\n",
    "(1) Functions in Python are defined using the def() keyword. <br>\n",
    "(2) A function may or may not always return something.<br>\n",
    "(3) Sometimes, some additional data are required for the function to execute successfully. These are known as parameters, defined during function definition.<br>\n",
    "(4) When values are passed during a function call, these additional information are called arguments.<br>\n",
    "(5) Some types of arguments are:<br>\n",
    "(a) positional arguments: arguments passed during function call are mapped to the parameters based on their position<br>\n",
    "(b) keyword arguments: arguments, where we suppy the name of the parameter corresponding to the argument as it is passed into the function<br>\n",
    "(c) default arguments: some parameters have default values set to them during function definition, if no arguments are passed during function call, then also the function carries on with its work<br>\n",
    "(6) Non-default arguments and keyword arguments must preceede positional arguments."
   ]
  },
  {
   "cell_type": "code",
   "execution_count": 90,
   "metadata": {
    "id": "r55I6bevlI7D"
   },
   "outputs": [],
   "source": [
    "def func(): #This function has no parameters\n",
    "  print('Hello World!')"
   ]
  },
  {
   "cell_type": "code",
   "execution_count": 91,
   "metadata": {
    "colab": {
     "base_uri": "https://localhost:8080/"
    },
    "id": "v6wmX5MwyCZq",
    "outputId": "5045de79-85e5-4b10-e346-6f8bfcb67d3b"
   },
   "outputs": [
    {
     "name": "stdout",
     "output_type": "stream",
     "text": [
      "Hello World!\n"
     ]
    }
   ],
   "source": [
    "func() #Function Call"
   ]
  },
  {
   "cell_type": "code",
   "execution_count": 92,
   "metadata": {
    "colab": {
     "base_uri": "https://localhost:8080/"
    },
    "id": "LyeZ5SIFv8bG",
    "outputId": "777556be-8f67-444b-c7e8-49bce7df921d"
   },
   "outputs": [
    {
     "name": "stdout",
     "output_type": "stream",
     "text": [
      "Hello World!\n"
     ]
    }
   ],
   "source": [
    "func()"
   ]
  },
  {
   "cell_type": "code",
   "execution_count": 93,
   "metadata": {
    "colab": {
     "base_uri": "https://localhost:8080/"
    },
    "id": "pFF2l2p_v8Jv",
    "outputId": "de9ce951-2a14-4987-b613-2edd396f5d7d"
   },
   "outputs": [
    {
     "name": "stdout",
     "output_type": "stream",
     "text": [
      "Hello World!\n"
     ]
    }
   ],
   "source": [
    "func()"
   ]
  },
  {
   "cell_type": "code",
   "execution_count": 94,
   "metadata": {
    "id": "njU5RlaXyG64"
   },
   "outputs": [],
   "source": [
    "# Function to add 3 numbers\n",
    "def add(a=10, b=10, c=10): #Here, the dafault values of a,b,c are 10, unless otherwise specified\n",
    "  return a+b+c"
   ]
  },
  {
   "cell_type": "code",
   "execution_count": 95,
   "metadata": {
    "colab": {
     "base_uri": "https://localhost:8080/"
    },
    "id": "mUEYpo10yXhX",
    "outputId": "27edfd08-8d6f-4327-e971-dd9ef08a7c8a"
   },
   "outputs": [
    {
     "data": {
      "text/plain": [
       "30"
      ]
     },
     "execution_count": 95,
     "metadata": {},
     "output_type": "execute_result"
    }
   ],
   "source": [
    "add()"
   ]
  },
  {
   "cell_type": "code",
   "execution_count": 96,
   "metadata": {
    "colab": {
     "base_uri": "https://localhost:8080/"
    },
    "id": "4p91qjXTyZYT",
    "outputId": "252e608d-1d99-45d6-abce-7333af5b2c57"
   },
   "outputs": [
    {
     "data": {
      "text/plain": [
       "18"
      ]
     },
     "execution_count": 96,
     "metadata": {},
     "output_type": "execute_result"
    }
   ],
   "source": [
    "add(4,6,8) #Here, 4,6,8 are positional arguments"
   ]
  },
  {
   "cell_type": "code",
   "execution_count": 97,
   "metadata": {
    "colab": {
     "base_uri": "https://localhost:8080/"
    },
    "id": "7O-bb0UHyjzb",
    "outputId": "f84cb4b4-c5fb-4207-c52b-c2fcdf3ab743"
   },
   "outputs": [
    {
     "data": {
      "text/plain": [
       "35"
      ]
     },
     "execution_count": 97,
     "metadata": {},
     "output_type": "execute_result"
    }
   ],
   "source": [
    "add(a=5, c=10, b=20) #Here, 5,10,20 are keyword arguments"
   ]
  },
  {
   "cell_type": "code",
   "execution_count": 98,
   "metadata": {
    "colab": {
     "base_uri": "https://localhost:8080/"
    },
    "id": "Jzb9PAKzxW6H",
    "outputId": "6ab7556f-1fc1-42fd-b086-5370ded593f0"
   },
   "outputs": [
    {
     "data": {
      "text/plain": [
       "1.6"
      ]
     },
     "execution_count": 98,
     "metadata": {},
     "output_type": "execute_result"
    }
   ],
   "source": [
    "8/5"
   ]
  },
  {
   "cell_type": "code",
   "execution_count": 99,
   "metadata": {
    "colab": {
     "base_uri": "https://localhost:8080/"
    },
    "id": "8VPQqnddxZPz",
    "outputId": "6f5913d7-9647-4883-8f5a-0f8181d63501"
   },
   "outputs": [
    {
     "data": {
      "text/plain": [
       "1"
      ]
     },
     "execution_count": 99,
     "metadata": {},
     "output_type": "execute_result"
    }
   ],
   "source": [
    "8//5"
   ]
  },
  {
   "cell_type": "code",
   "execution_count": 100,
   "metadata": {
    "id": "Z2epWuzEytks"
   },
   "outputs": [],
   "source": [
    "# Function to check for a prime number\n",
    "\n",
    "def is_prime(n):\n",
    "  if n==1:\n",
    "    return False\n",
    "  else:\n",
    "    flag = 0\n",
    "    for i in range(2 , (n//2)+1):\n",
    "      if n%i==0:\n",
    "        flag=1\n",
    "        break\n",
    "    if flag==1:\n",
    "      return False\n",
    "    else:\n",
    "      return True"
   ]
  },
  {
   "cell_type": "code",
   "execution_count": 101,
   "metadata": {
    "colab": {
     "base_uri": "https://localhost:8080/"
    },
    "id": "697OQtwjJjms",
    "outputId": "72d9c5dc-e902-4c4e-99de-aac9997bb959"
   },
   "outputs": [
    {
     "data": {
      "text/plain": [
       "True"
      ]
     },
     "execution_count": 101,
     "metadata": {},
     "output_type": "execute_result"
    }
   ],
   "source": [
    "is_prime(2)"
   ]
  },
  {
   "cell_type": "code",
   "execution_count": 102,
   "metadata": {
    "colab": {
     "base_uri": "https://localhost:8080/"
    },
    "id": "YgZvAaNjJlH9",
    "outputId": "5e219756-0c30-41a9-a66b-3f611e4dd863"
   },
   "outputs": [
    {
     "data": {
      "text/plain": [
       "True"
      ]
     },
     "execution_count": 102,
     "metadata": {},
     "output_type": "execute_result"
    }
   ],
   "source": [
    "is_prime(79)"
   ]
  },
  {
   "cell_type": "code",
   "execution_count": 103,
   "metadata": {
    "colab": {
     "base_uri": "https://localhost:8080/"
    },
    "id": "enCAmeQQJmrp",
    "outputId": "7b707a84-9f96-4cae-cbef-b36bffc94d4f"
   },
   "outputs": [
    {
     "data": {
      "text/plain": [
       "False"
      ]
     },
     "execution_count": 103,
     "metadata": {},
     "output_type": "execute_result"
    }
   ],
   "source": [
    "is_prime(64)"
   ]
  },
  {
   "cell_type": "markdown",
   "metadata": {
    "id": "V4lAegmZgmZM"
   },
   "source": [
    "##Python Lambda Function"
   ]
  },
  {
   "cell_type": "code",
   "execution_count": 104,
   "metadata": {
    "id": "vYnxF-YRglmX"
   },
   "outputs": [
    {
     "data": {
      "text/plain": [
       "'lambda arguments : expression'"
      ]
     },
     "execution_count": 104,
     "metadata": {},
     "output_type": "execute_result"
    }
   ],
   "source": [
    "#syntax of the lambda function\n",
    "'''lambda arguments : expression'''"
   ]
  },
  {
   "cell_type": "code",
   "execution_count": 105,
   "metadata": {
    "colab": {
     "base_uri": "https://localhost:8080/"
    },
    "id": "w15GnhFShNqU",
    "outputId": "7ca77b09-c727-45dc-a17b-0f70a2612439"
   },
   "outputs": [
    {
     "name": "stdout",
     "output_type": "stream",
     "text": [
      "15\n"
     ]
    }
   ],
   "source": [
    "x = lambda a : a + 10\n",
    "print(x(5))"
   ]
  },
  {
   "cell_type": "code",
   "execution_count": 106,
   "metadata": {
    "colab": {
     "base_uri": "https://localhost:8080/"
    },
    "id": "uEJZokHNigfe",
    "outputId": "6c1e2103-daba-484e-d6f2-e45aa1e24daf"
   },
   "outputs": [
    {
     "name": "stdout",
     "output_type": "stream",
     "text": [
      "30\n"
     ]
    }
   ],
   "source": [
    "x = lambda a, b : a * b\n",
    "print(x(5, 6))"
   ]
  },
  {
   "cell_type": "code",
   "execution_count": 107,
   "metadata": {
    "colab": {
     "base_uri": "https://localhost:8080/"
    },
    "id": "-b5814GFijS-",
    "outputId": "906c5052-17fa-4e89-c360-674495a2214e"
   },
   "outputs": [
    {
     "name": "stdout",
     "output_type": "stream",
     "text": [
      "13\n"
     ]
    }
   ],
   "source": [
    "x = lambda a, b, c : a + b + c\n",
    "print(x(5, 6, 2))"
   ]
  },
  {
   "cell_type": "markdown",
   "metadata": {
    "id": "R9sT1_mTixXX"
   },
   "source": [
    "##Comprehension"
   ]
  },
  {
   "cell_type": "code",
   "execution_count": 108,
   "metadata": {
    "colab": {
     "base_uri": "https://localhost:8080/"
    },
    "id": "gcfkrkxpjDUT",
    "outputId": "216535ee-1b01-47e7-f843-3ce076f22a6b"
   },
   "outputs": [
    {
     "name": "stdout",
     "output_type": "stream",
     "text": [
      "['h', 'u', 'm', 'a', 'n']\n"
     ]
    }
   ],
   "source": [
    "#Iterating through a string Using for Loop\n",
    "h_letters = []\n",
    "\n",
    "for letter in 'human':\n",
    "    h_letters.append(letter)\n",
    "\n",
    "print(h_letters)"
   ]
  },
  {
   "cell_type": "code",
   "execution_count": 109,
   "metadata": {
    "colab": {
     "base_uri": "https://localhost:8080/"
    },
    "id": "LRGIsBXjjQM4",
    "outputId": "74f44268-744a-4a25-d6ae-0be34190685e"
   },
   "outputs": [
    {
     "name": "stdout",
     "output_type": "stream",
     "text": [
      "['h', 'u', 'm', 'a', 'n']\n"
     ]
    }
   ],
   "source": [
    "#Iterating through a string Using List Comprehension\n",
    "#syntax - [expression for item in list]\n",
    "h_letters = [letter for letter in 'human' ]\n",
    "print(h_letters)"
   ]
  },
  {
   "cell_type": "code",
   "execution_count": 110,
   "metadata": {
    "id": "bm-X_RAT9_8w"
   },
   "outputs": [
    {
     "name": "stdout",
     "output_type": "stream",
     "text": [
      "[1, 4, 9, 16, 25, 36, 49, 64, 81, 100]\n"
     ]
    }
   ],
   "source": [
    "squares = [num**2 for num in list(range(1,11,1))]\n",
    "print(squares)"
   ]
  },
  {
   "cell_type": "code",
   "execution_count": 111,
   "metadata": {
    "id": "Lp6vJnF6_LQK"
   },
   "outputs": [
    {
     "name": "stdout",
     "output_type": "stream",
     "text": [
      "['h', 'u', 'm', 'a', 'n']\n"
     ]
    }
   ],
   "source": [
    "#implementing comprehension with lambda\n",
    "letters = list(map(lambda x: x, 'human'))\n",
    "print(letters)"
   ]
  },
  {
   "cell_type": "code",
   "execution_count": 112,
   "metadata": {
    "id": "2iCnICrU_4_M"
   },
   "outputs": [
    {
     "name": "stdout",
     "output_type": "stream",
     "text": [
      "[2, 4, 6, 8]\n"
     ]
    }
   ],
   "source": [
    "#using map function\n",
    "#syntax - map(fun, iter)\n",
    "numbers = (1, 2, 3, 4)\n",
    "result = list(map(lambda x: x + x, numbers))\n",
    "print(result)"
   ]
  },
  {
   "cell_type": "code",
   "execution_count": 113,
   "metadata": {
    "id": "JjiCklilAs0a"
   },
   "outputs": [
    {
     "name": "stdout",
     "output_type": "stream",
     "text": [
      "[0, 2, 4, 6, 8, 10]\n"
     ]
    }
   ],
   "source": [
    "#conditionals in list comprehension\n",
    "number_list = [x for x in range(0,11,1) if x%2 == 0]\n",
    "print(number_list)"
   ]
  },
  {
   "cell_type": "markdown",
   "metadata": {
    "id": "yeDe8uU3b0sK"
   },
   "source": [
    "##Some Programs based on above concepts"
   ]
  },
  {
   "cell_type": "markdown",
   "metadata": {
    "id": "7y-OitxaLULZ"
   },
   "source": [
    "$n! = n \\times (n-1)\\times (n-2) \\times \\ldots \\times 2 \\times 1$ <br>\n",
    "Let's compute the factorial of $n \\in \\mathbb{Z}^+ \\cup \\{0\\}$"
   ]
  },
  {
   "cell_type": "code",
   "execution_count": 114,
   "metadata": {
    "colab": {
     "base_uri": "https://localhost:8080/"
    },
    "id": "66m_wCUHLIdG",
    "outputId": "ade1c7b5-526b-43a9-b79c-a22193b2be13"
   },
   "outputs": [
    {
     "name": "stdout",
     "output_type": "stream",
     "text": [
      "The Factorial of 6 is 720\n"
     ]
    }
   ],
   "source": [
    "## Using range function and For loop to compute Factorial\n",
    "n=6        ## Keep changing n and play around.\n",
    "fact = 1\n",
    "for i in range(1,n+1):\n",
    "  fact = fact*i\n",
    "print(f'The Factorial of {n} is {fact}')"
   ]
  },
  {
   "cell_type": "code",
   "execution_count": 115,
   "metadata": {
    "colab": {
     "base_uri": "https://localhost:8080/"
    },
    "id": "OeouUOYuTdfS",
    "outputId": "61a3d2d1-0f5f-47cc-c7a8-1ff60c6d1c94"
   },
   "outputs": [
    {
     "name": "stdout",
     "output_type": "stream",
     "text": [
      "5\n",
      "The factorial of 5 is 120\n"
     ]
    }
   ],
   "source": [
    "# while loop to calculate factorial\n",
    "\n",
    "n = int(input())\n",
    "b = n\n",
    "fact = 1\n",
    "while b>0:\n",
    "  fact = fact*b\n",
    "  b = b-1\n",
    "print(f'The factorial of {n} is {fact}')"
   ]
  },
  {
   "cell_type": "markdown",
   "metadata": {
    "id": "-EA0luZ8Pw-c"
   },
   "source": [
    "Calculating the norm (absolute value) of a vector w.r.t standard inner product: <br>\n",
    "\n",
    "$$||\\vec{u}|| = \\sqrt{u_1^2+u_2^2+u_3^2+\\ldots + u_n^2} \\;\\; ,$$\n",
    "where $\\vec{u} = (u_1,u_2, \\ldots u_n)$"
   ]
  },
  {
   "cell_type": "code",
   "execution_count": 116,
   "metadata": {
    "colab": {
     "base_uri": "https://localhost:8080/"
    },
    "id": "56J511loPXcx",
    "outputId": "99ae5d7f-eea7-4e1e-fcc2-a04ee909d322"
   },
   "outputs": [
    {
     "name": "stdout",
     "output_type": "stream",
     "text": [
      "Enter the length of a vector: 5\n",
      "Enter the 1th element: 1\n",
      "Enter the 2th element: 4\n",
      "Enter the 3th element: 5\n",
      "Enter the 4th element: 7\n",
      "Enter the 5th element: 8\n",
      "The norm of v = [1.0, 4.0, 5.0, 7.0, 8.0] is 12.449899597988733\n"
     ]
    }
   ],
   "source": [
    "# Taking a row vector as an input from user\n",
    "\n",
    "n = int(input('Enter the length of a vector: '))\n",
    "vec = []\n",
    "for i in range(n):\n",
    "  vec.append(float(input(f'Enter the {i+1}th element: ')))\n",
    "norm_2 = 0\n",
    "for i in range(n):\n",
    "  norm_2+= (vec[i])**2\n",
    "print(f'The norm of v = {vec} is {norm_2**0.5}')"
   ]
  },
  {
   "cell_type": "markdown",
   "metadata": {
    "id": "1Fbl0HaqBHWr"
   },
   "source": [
    "####Transpose of a matrix"
   ]
  },
  {
   "cell_type": "code",
   "execution_count": 118,
   "metadata": {
    "id": "926pwEH3T4Pi"
   },
   "outputs": [
    {
     "name": "stdout",
     "output_type": "stream",
     "text": [
      "[[1, 4], [2, 5], [3, 6], [4, 8]]\n"
     ]
    }
   ],
   "source": [
    "transposed = []\n",
    "matrix = [[1, 2, 3, 4], [4, 5, 6, 8]]\n",
    "\n",
    "for i in range(len(matrix[0])):#i=0,1,2,3\n",
    "    transposed_row = []\n",
    "\n",
    "    for row in matrix:#row=[1,2,3,4] #row=[4,5,6,8]\n",
    "        transposed_row.append(row[i])#[1,4] #[2,5] #[3,6] #[4,8]\n",
    "    transposed.append(transposed_row)#[[1,4],[2,5],[3,6],[4,8]]\n",
    "\n",
    "print(transposed)"
   ]
  },
  {
   "cell_type": "markdown",
   "metadata": {
    "id": "sQGxJobQJydq"
   },
   "source": [
    "Population Variance of a list of numbers $x_1,x_2, \\ldots x_n$ is given by \n",
    "$$\\sigma^2 = \\dfrac{1}{n} \\sum_{i=1}^n(x_i-\\overline{x})^2$$\n",
    "The Sample variance is given by $$s^2 = \\dfrac{1}{n-1}\\sum_{i=1}^n(x_i-\\overline{x})^2$$"
   ]
  },
  {
   "cell_type": "code",
   "execution_count": 119,
   "metadata": {
    "id": "6SZAAPR2JxFp"
   },
   "outputs": [],
   "source": [
    "def variance(x , ddof = 0):\n",
    "  if len(x)==0 or len(x)==1:\n",
    "    return 0\n",
    "  s = 0\n",
    "  for i in x:\n",
    "    s = s+i\n",
    "  avg = s/len(x)\n",
    "  squared_deviations = [(i-avg)**2 for i in x]\n",
    "  if ddof==0:\n",
    "    variance = sum(squared_deviations)/len(x)\n",
    "  elif ddof==1:\n",
    "    variance = sum(squared_deviations)/(len(x)-1)\n",
    "  return variance"
   ]
  },
  {
   "cell_type": "code",
   "execution_count": 120,
   "metadata": {
    "id": "3_jdZypULylG"
   },
   "outputs": [
    {
     "data": {
      "text/plain": [
       "4.609586776859504"
      ]
     },
     "execution_count": 120,
     "metadata": {},
     "output_type": "execute_result"
    }
   ],
   "source": [
    "variance([1.0,2.1,3.2,2.2,4.4,3,8,7.1,4.5,2.0,1.7], ddof=0)"
   ]
  },
  {
   "cell_type": "code",
   "execution_count": 121,
   "metadata": {
    "id": "2kTjfH9DL_rn"
   },
   "outputs": [
    {
     "data": {
      "text/plain": [
       "5.070545454545455"
      ]
     },
     "execution_count": 121,
     "metadata": {},
     "output_type": "execute_result"
    }
   ],
   "source": [
    "variance([1.0,2.1,3.2,2.2,4.4,3,8,7.1,4.5,2.0,1.7], ddof=1)"
   ]
  },
  {
   "cell_type": "markdown",
   "metadata": {
    "id": "e2VdeH7OMJpO"
   },
   "source": [
    "#Numpy\n",
    "\n",
    "Numpy (Numerical Python) is one of the most popular mathematical and statistical libraries in Python. It is vast and helps you achieve your task with just a few lines of code. It is so big that in this tutorial, we will probably be able to show you only a few parts!! The remaining is for you to explore."
   ]
  },
  {
   "cell_type": "code",
   "execution_count": 122,
   "metadata": {
    "id": "RCiRA-UKMCJU"
   },
   "outputs": [],
   "source": [
    "# in google colab, numpy and many other libraries are pre-installed. However, you may need to install it on your computer separately.\n",
    "# numpy can be installed using !pip install numpy"
   ]
  },
  {
   "cell_type": "code",
   "execution_count": 123,
   "metadata": {
    "id": "YwmoN9YOM8Z4"
   },
   "outputs": [],
   "source": [
    "import numpy as np #np is an alias for the numpy library"
   ]
  },
  {
   "cell_type": "code",
   "execution_count": 124,
   "metadata": {
    "colab": {
     "base_uri": "https://localhost:8080/"
    },
    "id": "QaZ926nQSeen",
    "outputId": "1f15bf02-189f-40aa-dff9-195aa8e28745"
   },
   "outputs": [
    {
     "name": "stdout",
     "output_type": "stream",
     "text": [
      "-100\n",
      "34\n"
     ]
    }
   ],
   "source": [
    "a = np.array([2,4,-1,3,17,8,22,34,11,-100])\n",
    "print(np.min(a))\n",
    "print(np.max(a))"
   ]
  },
  {
   "cell_type": "code",
   "execution_count": 125,
   "metadata": {
    "id": "be8GA71AND-0"
   },
   "outputs": [],
   "source": [
    "l1 = [[1,2,3],[4,5,6],[7,8,9]]"
   ]
  },
  {
   "cell_type": "code",
   "execution_count": 126,
   "metadata": {
    "colab": {
     "base_uri": "https://localhost:8080/"
    },
    "id": "DPZsWZB5NITl",
    "outputId": "02e248d6-0a72-46da-ef70-7245e6b6375f"
   },
   "outputs": [
    {
     "name": "stdout",
     "output_type": "stream",
     "text": [
      "[[1 2 3]\n",
      " [4 5 6]\n",
      " [7 8 9]]\n"
     ]
    }
   ],
   "source": [
    "mat1 = np.array(l1)\n",
    "print(mat1)"
   ]
  },
  {
   "cell_type": "code",
   "execution_count": 127,
   "metadata": {
    "id": "svzvyk6BNMRB"
   },
   "outputs": [],
   "source": [
    "# Here's a code for matrix multiplication.\n",
    "\n",
    "def matmul(A,B):\n",
    "  if len(A[0])==len(B):\n",
    "    product = []\n",
    "    for i in range(len(A)):\n",
    "      product.append([])\n",
    "      for j in range(len(B[0])):\n",
    "        product[i].append(0)\n",
    "    for i in range(len(A)):\n",
    "      for j in range(len(B[0])):\n",
    "        for k in range(len(A[0])):\n",
    "          product[i][j]+=A[i][k]*B[k][j]\n",
    "    return product\n",
    "  else:\n",
    "    print('Matrices A and B are not compatible for multiplication.')\n",
    "    return -1"
   ]
  },
  {
   "cell_type": "code",
   "execution_count": 128,
   "metadata": {
    "colab": {
     "base_uri": "https://localhost:8080/"
    },
    "id": "XWXg-Gt9OBxp",
    "outputId": "22a6ca28-0141-4b1d-c6c1-a9354c573938"
   },
   "outputs": [
    {
     "data": {
      "text/plain": [
       "[[7, 10], [15, 22]]"
      ]
     },
     "execution_count": 128,
     "metadata": {},
     "output_type": "execute_result"
    }
   ],
   "source": [
    "matmul([[1,2],[3,4]],[[1,2],[3,4]])"
   ]
  },
  {
   "cell_type": "code",
   "execution_count": 129,
   "metadata": {
    "colab": {
     "base_uri": "https://localhost:8080/"
    },
    "id": "ajtPx7V5OGJH",
    "outputId": "38bc0758-c306-4f69-d559-ec6ea53081a1"
   },
   "outputs": [
    {
     "data": {
      "text/plain": [
       "array([[ 7, 10],\n",
       "       [15, 22]])"
      ]
     },
     "execution_count": 129,
     "metadata": {},
     "output_type": "execute_result"
    }
   ],
   "source": [
    "# Here's the numpy version\n",
    "\n",
    "A = [[1,2],[3,4]]\n",
    "B = [[1,2],[3,4]]\n",
    "\n",
    "A = np.array(A)\n",
    "B = np.array(B)\n",
    "\n",
    "np.matmul(A,B)"
   ]
  },
  {
   "cell_type": "code",
   "execution_count": 130,
   "metadata": {
    "id": "shLktHq3Oghl"
   },
   "outputs": [
    {
     "data": {
      "text/plain": [
       "matrix([[ 7, 10],\n",
       "        [15, 22]])"
      ]
     },
     "execution_count": 130,
     "metadata": {},
     "output_type": "execute_result"
    }
   ],
   "source": [
    "#Another way\n",
    "A = [[1,2],[3,4]]\n",
    "B = [[1,2],[3,4]]\n",
    "\n",
    "A = np.matrix(A)\n",
    "B = np.matrix(B)\n",
    "\n",
    "A@B"
   ]
  },
  {
   "cell_type": "code",
   "execution_count": 131,
   "metadata": {
    "id": "kPWnFG1COrPA"
   },
   "outputs": [
    {
     "data": {
      "text/plain": [
       "matrix([[ 7, 10],\n",
       "        [15, 22]])"
      ]
     },
     "execution_count": 131,
     "metadata": {},
     "output_type": "execute_result"
    }
   ],
   "source": [
    "A*B #This works only for numpy matrices "
   ]
  },
  {
   "cell_type": "code",
   "execution_count": 132,
   "metadata": {
    "id": "NQCjja11Osbj"
   },
   "outputs": [
    {
     "data": {
      "text/plain": [
       "array([0.1       , 0.11836735, 0.13673469, 0.15510204, 0.17346939,\n",
       "       0.19183673, 0.21020408, 0.22857143, 0.24693878, 0.26530612,\n",
       "       0.28367347, 0.30204082, 0.32040816, 0.33877551, 0.35714286,\n",
       "       0.3755102 , 0.39387755, 0.4122449 , 0.43061224, 0.44897959,\n",
       "       0.46734694, 0.48571429, 0.50408163, 0.52244898, 0.54081633,\n",
       "       0.55918367, 0.57755102, 0.59591837, 0.61428571, 0.63265306,\n",
       "       0.65102041, 0.66938776, 0.6877551 , 0.70612245, 0.7244898 ,\n",
       "       0.74285714, 0.76122449, 0.77959184, 0.79795918, 0.81632653,\n",
       "       0.83469388, 0.85306122, 0.87142857, 0.88979592, 0.90816327,\n",
       "       0.92653061, 0.94489796, 0.96326531, 0.98163265, 1.        ])"
      ]
     },
     "execution_count": 132,
     "metadata": {},
     "output_type": "execute_result"
    }
   ],
   "source": [
    "#Linspace -> Creates a linear space with evenly spaced points according to the number of points needed\n",
    "\n",
    "x = np.linspace(0.1, 1.0, endpoint=True)\n",
    "x"
   ]
  },
  {
   "cell_type": "code",
   "execution_count": 133,
   "metadata": {
    "id": "PU0cf_PoPIlu"
   },
   "outputs": [
    {
     "data": {
      "text/plain": [
       "array([0.1, 0.2, 0.3, 0.4, 0.5, 0.6, 0.7, 0.8, 0.9, 1. ])"
      ]
     },
     "execution_count": 133,
     "metadata": {},
     "output_type": "execute_result"
    }
   ],
   "source": [
    "x = np.linspace(0.1,1.0,num=10)\n",
    "x"
   ]
  },
  {
   "cell_type": "code",
   "execution_count": 134,
   "metadata": {
    "id": "U57apqeTPk38"
   },
   "outputs": [
    {
     "name": "stdout",
     "output_type": "stream",
     "text": [
      "[1.0, 2.0, 3.0, 4.0, 5.0, 6.0, 7.0, 8.0]\n",
      "[1. 2. 3. 4. 5. 6. 7. 8.]\n"
     ]
    }
   ],
   "source": [
    "#Numpy has a vectorized approach. It is much falster that the traditional approach.\n",
    "\n",
    "l = [1,4,9,16,25,36,49,64]\n",
    "# To calculate the square root of every element:\n",
    "# Traditional Approach\n",
    "\n",
    "l1 = [i**0.5 for i in l]\n",
    "print(l1)\n",
    "\n",
    "l = np.array(l)\n",
    "print(np.sqrt(l))"
   ]
  },
  {
   "cell_type": "code",
   "execution_count": 135,
   "metadata": {
    "id": "3Z17eZYVPQM0"
   },
   "outputs": [
    {
     "data": {
      "text/plain": [
       "4.609586776859504"
      ]
     },
     "execution_count": 135,
     "metadata": {},
     "output_type": "execute_result"
    }
   ],
   "source": [
    "# Calculating Variance\n",
    "\n",
    "np.var([1.0,2.1,3.2,2.2,4.4,3,8,7.1,4.5,2.0,1.7], ddof=0)"
   ]
  },
  {
   "cell_type": "code",
   "execution_count": 136,
   "metadata": {
    "id": "3EbOYN34Pefb"
   },
   "outputs": [
    {
     "data": {
      "text/plain": [
       "5.070545454545455"
      ]
     },
     "execution_count": 136,
     "metadata": {},
     "output_type": "execute_result"
    }
   ],
   "source": [
    "np.var([1.0,2.1,3.2,2.2,4.4,3,8,7.1,4.5,2.0,1.7], ddof=1)"
   ]
  },
  {
   "cell_type": "code",
   "execution_count": 137,
   "metadata": {
    "id": "khNXJ3GmQC2M"
   },
   "outputs": [
    {
     "data": {
      "text/plain": [
       "-8.000000000000002"
      ]
     },
     "execution_count": 137,
     "metadata": {},
     "output_type": "execute_result"
    }
   ],
   "source": [
    "# Calculating the determinant or eigenvalues can be really cumbersome if we have to write a code. With numpy, Here we Go!!\n",
    "\n",
    "A = np.matrix([[1,3,2],[2,2,1],[3,1,2]])\n",
    "np.linalg.det(A)"
   ]
  },
  {
   "cell_type": "code",
   "execution_count": 138,
   "metadata": {
    "id": "sODaurYEQ_-2"
   },
   "outputs": [
    {
     "data": {
      "text/plain": [
       "(array([ 5.63534506, -1.55076913,  0.91542407]),\n",
       " matrix([[ 0.59516269,  0.77141691, -0.11642363],\n",
       "         [ 0.50039823, -0.2725712 , -0.54865366],\n",
       "         [ 0.62879486, -0.57499642,  0.8279038 ]]))"
      ]
     },
     "execution_count": 138,
     "metadata": {},
     "output_type": "execute_result"
    }
   ],
   "source": [
    "np.linalg.eig(A)"
   ]
  },
  {
   "cell_type": "code",
   "execution_count": 139,
   "metadata": {
    "id": "aKPTfF7aSxSm"
   },
   "outputs": [],
   "source": [
    "# NumPy also has certain constants, even infinity"
   ]
  },
  {
   "cell_type": "code",
   "execution_count": 140,
   "metadata": {
    "id": "3I10vL2YTQ5G"
   },
   "outputs": [
    {
     "data": {
      "text/plain": [
       "3.141592653589793"
      ]
     },
     "execution_count": 140,
     "metadata": {},
     "output_type": "execute_result"
    }
   ],
   "source": [
    "np.pi"
   ]
  },
  {
   "cell_type": "code",
   "execution_count": 141,
   "metadata": {
    "id": "1zIPTYaHTRzG"
   },
   "outputs": [
    {
     "data": {
      "text/plain": [
       "inf"
      ]
     },
     "execution_count": 141,
     "metadata": {},
     "output_type": "execute_result"
    }
   ],
   "source": [
    "np.inf"
   ]
  },
  {
   "cell_type": "code",
   "execution_count": 142,
   "metadata": {
    "id": "p_ynrLTJTT1T"
   },
   "outputs": [
    {
     "data": {
      "text/plain": [
       "2.718281828459045"
      ]
     },
     "execution_count": 142,
     "metadata": {},
     "output_type": "execute_result"
    }
   ],
   "source": [
    "np.e"
   ]
  },
  {
   "cell_type": "code",
   "execution_count": 143,
   "metadata": {
    "id": "7U-nf1pVTfbX"
   },
   "outputs": [],
   "source": [
    "# The last thing for today, I will show you a Gaussian Distribution Curve, and what immense help it is to have a vectorized library at hand. \n",
    "# Don't worry about the plotting, we will pick it up from here tomorrow.\n",
    "\n",
    "import matplotlib.pyplot as plt\n",
    "\n",
    "x = np.linspace(-5,5,50)"
   ]
  },
  {
   "cell_type": "code",
   "execution_count": 144,
   "metadata": {
    "id": "wmYPjyoZUGV6"
   },
   "outputs": [],
   "source": [
    "normal_pdf = (1/(1*(np.sqrt(2*np.pi))))*(np.exp(-(x**2)/2))  ## Standard Normal PDF with mu=0 and sigma=1"
   ]
  },
  {
   "cell_type": "code",
   "execution_count": 145,
   "metadata": {
    "id": "c6uc4J9TUevq"
   },
   "outputs": [
    {
     "data": {
      "image/png": "[encoded data removed]",
      "text/plain": [
       "<Figure size 432x288 with 1 Axes>"
      ]
     },
     "metadata": {
      "needs_background": "light"
     },
     "output_type": "display_data"
    }
   ],
   "source": [
    "\n",
    "plt.plot(x,normal_pdf)\n",
    "plt.show()"
   ]
  }
 ],
 "metadata": {
  "colab": {
   "collapsed_sections": [],
   "name": "Python Workshop Day 1.ipynb",
   "provenance": []
  },
  "kernelspec": {
   "display_name": "Python 3",
   "language": "python",
   "name": "python3"
  },
  "language_info": {
   "codemirror_mode": {
    "name": "ipython",
    "version": 3
   },
   "file_extension": ".py",
   "mimetype": "text/x-python",
   "name": "python",
   "nbconvert_exporter": "python",
   "pygments_lexer": "ipython3",
   "version": "3.9.5"
  }
 },
 "nbformat": 4,
 "nbformat_minor": 1
}
